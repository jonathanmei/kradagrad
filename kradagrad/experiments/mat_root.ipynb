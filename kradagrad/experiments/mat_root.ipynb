{
 "cells": [
  {
   "cell_type": "code",
   "execution_count": 1,
   "id": "d6cd96a3-d8e4-4f6a-a486-dbde2ca75795",
   "metadata": {},
   "outputs": [
    {
     "name": "stdout",
     "output_type": "stream",
     "text": [
      "['/home/jmei/code/experiments/kradagrad', '/home/jmei/code/experiments/kradagrad/experiments', '/home/jmei/miniconda3/envs/krad/lib/python310.zip', '/home/jmei/miniconda3/envs/krad/lib/python3.10', '/home/jmei/miniconda3/envs/krad/lib/python3.10/lib-dynload', '', '/home/jmei/miniconda3/envs/krad/lib/python3.10/site-packages']\n"
     ]
    },
    {
     "name": "stderr",
     "output_type": "stream",
     "text": [
      "/home/jmei/miniconda3/envs/krad/lib/python3.10/site-packages/tqdm/auto.py:22: TqdmWarning: IProgress not found. Please update jupyter and ipywidgets. See https://ipywidgets.readthedocs.io/en/stable/user_install.html\n",
      "  from .autonotebook import tqdm as notebook_tqdm\n"
     ]
    }
   ],
   "source": [
    "%load_ext autoreload\n",
    "%autoreload 2\n",
    "\n",
    "import os\n",
    "import sys\n",
    "\n",
    "parent = os.path.abspath(os.path.join(os.getcwd(), '..'))\n",
    "for path_ in [parent]:\n",
    "    if path_ not in (cur_path:=sys.path):\n",
    "        sys.path = [path_] + cur_path\n",
    "print(sys.path)\n",
    "\n",
    "import matplotlib.pyplot as plt\n",
    "import numpy as np\n",
    "import torch\n",
    "\n",
    "import matrix_root as mr\n",
    "\n",
    "torch.set_printoptions(linewidth=120)\n"
   ]
  },
  {
   "cell_type": "code",
   "execution_count": 2,
   "id": "249fcfc7-d0dc-44b5-8835-fd7650ef9051",
   "metadata": {},
   "outputs": [
    {
     "name": "stdout",
     "output_type": "stream",
     "text": [
      "tensor([[[ 8.5380e-01, -1.2395e+00,  1.5087e+00,  2.2874e+00,  2.6599e+00, -6.1719e-01,  2.5510e-01,  1.2292e+00],\n",
      "         [-1.2395e+00,  1.8250e+00, -2.2922e+00, -3.1632e+00, -4.0351e+00,  8.9568e-01, -1.4854e-01, -2.0874e+00],\n",
      "         [ 1.5087e+00, -2.2922e+00,  3.5746e+00,  3.0692e+00,  5.0357e+00, -1.4144e+00,  3.3321e-01,  3.5117e+00],\n",
      "         [ 2.2874e+00, -3.1632e+00,  3.0692e+00,  1.0120e+01,  4.9110e+00,  1.7498e+00, -2.0315e+00,  1.3696e+00],\n",
      "         [ 2.6599e+00, -4.0351e+00,  5.0357e+00,  4.9110e+00,  1.2329e+01, -5.0402e+00,  2.8590e+00,  7.3848e+00],\n",
      "         [-6.1719e-01,  8.9568e-01, -1.4144e+00,  1.7498e+00, -5.0402e+00,  1.0751e+01, -8.4657e+00, -2.7998e+00],\n",
      "         [ 2.5510e-01, -1.4854e-01,  3.3321e-01, -2.0315e+00,  2.8590e+00, -8.4657e+00,  1.1103e+01, -6.7479e-02],\n",
      "         [ 1.2292e+00, -2.0874e+00,  3.5117e+00,  1.3696e+00,  7.3848e+00, -2.7998e+00, -6.7479e-02,  7.8244e+00]],\n",
      "\n",
      "        [[ 8.9763e-02, -3.6716e-01,  2.4264e-01, -1.3914e-01, -1.7155e-01,  8.2164e-02,  7.6551e-03, -2.7913e-01],\n",
      "         [-3.6716e-01,  4.2623e+00, -3.1213e+00, -1.6301e+00, -2.1743e+00, -1.4012e+00,  9.2242e-01, -6.7631e-01],\n",
      "         [ 2.4264e-01, -3.1213e+00,  4.0502e+00,  1.2170e+00,  9.7223e-01,  6.5575e-03,  1.0401e+00, -2.8505e-01],\n",
      "         [-1.3914e-01, -1.6301e+00,  1.2170e+00,  3.2044e+00,  3.9596e+00,  1.3714e-01, -1.5856e+00,  2.6751e+00],\n",
      "         [-1.7155e-01, -2.1743e+00,  9.7223e-01,  3.9596e+00,  5.2729e+00,  1.1200e+00, -2.3946e+00,  2.9390e+00],\n",
      "         [ 8.2164e-02, -1.4012e+00,  6.5575e-03,  1.3714e-01,  1.1200e+00,  5.4742e+00,  5.6869e-01, -2.8164e+00],\n",
      "         [ 7.6551e-03,  9.2242e-01,  1.0401e+00, -1.5856e+00, -2.3946e+00,  5.6869e-01,  3.1338e+00, -3.4054e+00],\n",
      "         [-2.7913e-01, -6.7631e-01, -2.8505e-01,  2.6751e+00,  2.9390e+00, -2.8164e+00, -3.4054e+00,  1.4714e+01]],\n",
      "\n",
      "        [[ 7.7255e-01,  1.8729e+00, -9.4229e-01,  6.3842e-01,  6.9565e-02,  1.3751e-01,  1.5580e-01,  2.1737e-01],\n",
      "         [ 1.8729e+00,  4.5599e+00, -2.2293e+00,  1.6329e+00,  2.4312e-01,  5.2515e-01,  2.8792e-01,  5.5263e-01],\n",
      "         [-9.4229e-01, -2.2293e+00,  1.3668e+00, -5.4327e-01,  3.2438e-01,  3.9664e-01, -3.3713e-01,  6.0808e-02],\n",
      "         [ 6.3842e-01,  1.6329e+00, -5.4327e-01,  2.9865e+00,  9.5672e-02,  3.0701e-02, -1.2827e-01,  1.0207e+00],\n",
      "         [ 6.9565e-02,  2.4312e-01,  3.2438e-01,  9.5672e-02,  2.0021e+00,  1.0801e+00, -7.2464e-01,  1.0817e+00],\n",
      "         [ 1.3751e-01,  5.2515e-01,  3.9664e-01,  3.0701e-02,  1.0801e+00,  2.4553e+00, -1.3026e+00,  4.1873e-01],\n",
      "         [ 1.5580e-01,  2.8792e-01, -3.3713e-01, -1.2827e-01, -7.2464e-01, -1.3026e+00,  6.3592e+00, -1.6698e+00],\n",
      "         [ 2.1737e-01,  5.5263e-01,  6.0808e-02,  1.0207e+00,  1.0817e+00,  4.1873e-01, -1.6698e+00,  9.2746e+00]]],\n",
      "       device='cuda:0')\n"
     ]
    }
   ],
   "source": [
    "# problem sizes\n",
    "Ba = 3\n",
    "N = 8\n",
    "\n",
    "torch.manual_seed(95054)\n",
    "\n",
    "B = torch.randn([Ba, N, N], device='cuda')\n",
    "B = torch.tril(B)\n",
    "A = B.bmm(B.transpose(-2, -1))\n",
    "print(A)"
   ]
  },
  {
   "cell_type": "code",
   "execution_count": 8,
   "id": "5c3e3ecb-4876-423d-8f5e-ea95a281b5d5",
   "metadata": {},
   "outputs": [
    {
     "name": "stdout",
     "output_type": "stream",
     "text": [
      "inv quit after 1 iter\n",
      "inv quit after 5 iter\n",
      "inv quit after 5 iter\n",
      "inv quit after 5 iter\n",
      "inv quit after 5 iter\n",
      "inv quit after 5 iter\n",
      "inv quit after 5 iter\n",
      "inv quit after 4 iter\n",
      "inv quit after 5 iter\n",
      "inv quit after 4 iter\n",
      "inv quit after 4 iter\n",
      "inv quit after 4 iter\n",
      "inv quit after 4 iter\n",
      "inv quit after 4 iter\n",
      "inv quit after 3 iter\n",
      "inv quit after 2 iter\n",
      "inv quit after 2 iter\n",
      "inv quit after 2 iter\n",
      "inv quit after 2 iter\n",
      "tensor([34.3660, 22.3441, 14.6191], device='cuda:0')\n",
      "tensor([0.4090, 0.0557, 0.0316], device='cuda:0')\n",
      "tensor([0.0691, 0.0394, 0.0270], device='cuda:0')\n",
      "tensor([2.8092e+00, 4.1527e-03, 6.9810e-05], device='cuda:0')\n"
     ]
    }
   ],
   "source": [
    "# A few iters to get close but not converge\n",
    "A2 = mr.matrix_sqrt_NS(A, iters=5)\n",
    "A22 = mr.matrix_sqrt_NS(A, iters=25)\n",
    "\n",
    "A6 = mr.matrix_even_root_N_warm(6, A, A2, iters=50, tol=1e-6, inner_tol=1e-6)\n",
    "A23 = mr.mat_root(A22, 3, iters=20, tol=1e-6, inner_tol=1e-6, debug=True)\n",
    "\n",
    "print(mr._mat_fro_norm(A))\n",
    "print(mr._mat_fro_norm(A - A2.bmm(A2.transpose(-2,-1))))\n",
    "print(mr._mat_fro_norm(A - mr.mat_pow(A6, 6)))\n",
    "print(mr._mat_fro_norm(A - mr.mat_pow(A23, 6)))"
   ]
  },
  {
   "cell_type": "code",
   "execution_count": null,
   "id": "6d03da84-599d-4423-ad7f-13fda6837de5",
   "metadata": {},
   "outputs": [],
   "source": []
  }
 ],
 "metadata": {
  "kernelspec": {
   "display_name": "Python 3 (ipykernel)",
   "language": "python",
   "name": "python3"
  },
  "language_info": {
   "codemirror_mode": {
    "name": "ipython",
    "version": 3
   },
   "file_extension": ".py",
   "mimetype": "text/x-python",
   "name": "python",
   "nbconvert_exporter": "python",
   "pygments_lexer": "ipython3",
   "version": "3.10.8"
  }
 },
 "nbformat": 4,
 "nbformat_minor": 5
}
