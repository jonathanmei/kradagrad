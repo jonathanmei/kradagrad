{
 "cells": [
  {
   "cell_type": "code",
   "execution_count": 5,
   "id": "3c2ffe9e-5d97-4afe-84d8-c6b5e9012cc7",
   "metadata": {},
   "outputs": [
    {
     "name": "stdout",
     "output_type": "stream",
     "text": [
      "The autoreload extension is already loaded. To reload it, use:\n",
      "  %reload_ext autoreload\n"
     ]
    }
   ],
   "source": [
    "%load_ext autoreload\n",
    "%autoreload 2\n",
    "import sys\n",
    "import time\n",
    "sys.path.append('../..')\n",
    "\n",
    "import kradagrad as kg\n",
    "import kradagrad.riccati as ricc\n",
    "import numpy as np\n",
    "import torch\n",
    "mf = kg.positive_matrix_functions"
   ]
  },
  {
   "cell_type": "code",
   "execution_count": 2,
   "id": "d0024869-6fe0-4c91-809a-6f0b23909f6e",
   "metadata": {},
   "outputs": [
    {
     "name": "stdout",
     "output_type": "stream",
     "text": [
      "\n"
     ]
    }
   ],
   "source": [
    "ll = np.array([[3,1],[1,5]])\n",
    "rr = np.array([[11,3],[3,7]])\n",
    "b = np.arange(8).reshape([2,4]).T\n",
    "#b = np.arange(4)[:, None]\n",
    "\n",
    "\n",
    "\n",
    "rr2 = mf.matrix_power_svd(torch.Tensor(rr), 1/2)\n",
    "ll2 = mf.matrix_power_svd(torch.Tensor(ll), 1/2)\n",
    "\n",
    "kk = ricc.Kron([ll2, rr2])\n",
    "\n",
    "dd = ricc.KronDiag([ll2.diag(), rr2.diag()])\n",
    "\n",
    "rr2 = rr2.numpy()\n",
    "ll2 = ll2.numpy()\n",
    "\n",
    "\"\"\"\n",
    "print(kk @ torch.Tensor(b))\n",
    "print(np.kron(ll2, rr2) @ b)\n",
    "\n",
    "print((torch.Tensor(b).T @ kk).T)\n",
    "\n",
    "print(dd @ torch.Tensor(b))\n",
    "print(np.kron(np.diag(ll2), np.diag(rr2))[:, None] * b)\n",
    "print(type(b))\n",
    "\"\"\"\n",
    "\n",
    "L, V = kk.eigh()\n",
    "\n",
    "\n",
    "\"\"\"\n",
    "print((V @ L @ V.T)._mats, kk._mats)\n",
    "\n",
    "\n",
    "print((torch.Tensor(b).T @ L).T, L @ torch.Tensor(b))\n",
    "\"\"\"\n",
    "#L @ np.eye(4)\n",
    "\n",
    "L.as_vec()[:,None] * torch.Tensor(b)\n",
    "print()"
   ]
  },
  {
   "cell_type": "code",
   "execution_count": 2,
   "id": "5e8bec68-c8f4-4841-8246-99b7aab5f80f",
   "metadata": {},
   "outputs": [],
   "source": [
    "torch.manual_seed(95054)\n",
    "\n",
    "a = torch.randn(24, 24).tril()\n",
    "a = a @ a.T\n",
    "b = torch.randn(24, 24).tril()\n",
    "b = b @ b.T\n",
    "\n",
    "C = torch.randn(576, 1)\n",
    "C = C / torch.sqrt((C ** 2).sum())\n",
    "\n",
    "A = ricc.Kron([a, b])\n",
    "k = 5"
   ]
  },
  {
   "cell_type": "code",
   "execution_count": 3,
   "id": "594375ba-7a09-4640-8b69-781bc32623f0",
   "metadata": {},
   "outputs": [
    {
     "name": "stdout",
     "output_type": "stream",
     "text": [
      "\n"
     ]
    }
   ],
   "source": [
    "import pymanopt\n",
    "\"\"\"\n",
    "manifold = ricc.RiccatiManifold(A,k)\n",
    "class EuclideanCache:\n",
    "    def __init__(self):\n",
    "        self.Y = None\n",
    "        self.Ge = None\n",
    "        self.Gr = None\n",
    "\n",
    "    def _cache(self, Y, mani):\n",
    "        mani._preprocess(Y)\n",
    "        if self.Y is None or not torch.allclose(self.Y, Y):\n",
    "            self.Y = Y\n",
    "            self.AY = A @ Y\n",
    "            self.YtAY = Y.T @ self.AY\n",
    "            self.CtY = C.T @ Y\n",
    "            self.YtAsqY = Y.T @ mani._AsqY\n",
    "            self.Ge = None\n",
    "            self.Gr = None\n",
    "\n",
    "    def _save_G(self, Ge, Gr):\n",
    "        self.Ge = Ge\n",
    "        self.Gr = Gr\n",
    "\n",
    "ec = EuclideanCache()\n",
    "\n",
    "\n",
    "@torch.no_grad()\n",
    "def make_SY(Y, C, ec, manifold):\n",
    "    return ec.AY @ manifold._YtY + Y @ (ec.YtAY + manifold._YtYsq) - C @ ec.CtY\n",
    "\n",
    "@torch.no_grad()\n",
    "def euc_grad_pt2(Y, SY):\n",
    "    ASY = A @ SY\n",
    "    SAY = ec.AY @ ec.YtAY + Y @ (ec.YtAsqY + manifold._YtY @ ec.YtAY) - C @ (C.T @ ec.AY)\n",
    "    SY3 = SY @ manifold._YtY\n",
    "    YYtSY = Y @ (Y.T @ SY)\n",
    "    Ge = ASY + SAY + SY3 + YYtSY\n",
    "    Gr = manifold.euclidean_to_riemannian_gradient(Y, Ge)\n",
    "    ec._save_G(Ge, Gr)\n",
    "    return Ge, Gr\n",
    "\n",
    "@pymanopt.function.numpy(manifold)\n",
    "def euc_grad(Y):\n",
    "    with torch.no_grad():\n",
    "        Y = torch.Tensor(Y)\n",
    "        ec._cache(Y, manifold)\n",
    "        SY = make_SY(Y, C, ec, manifold)\n",
    "        Ge, Gr = euc_grad_pt2(Y, SY)  # caches them too\n",
    "    return Gr\n",
    "\n",
    "@pymanopt.function.numpy(manifold)\n",
    "def euc_hess(Y, Eta):\n",
    "    with torch.no_grad():\n",
    "        Y = torch.Tensor(Y)\n",
    "        Eta = torch.Tensor(Eta)\n",
    "        ec._cache(Y, manifold)\n",
    "        AEta = A @ Eta\n",
    "        YtEta = Y.T @ Eta\n",
    "        CtEta = C.T @ Eta\n",
    "        EtatAY = Eta.T @ ec.AY\n",
    "        EtatY = YtEta.T\n",
    "\n",
    "        SY = make_SY(Y, C, ec, manifold)\n",
    "\n",
    "        SEta = ec.AY @ YtEta + Y @ (Y.T @ AEta + manifold._YtY @ YtEta) - C @ CtEta\n",
    "        SdotY = ec.AY @ EtatY + AEta @ manifold._YtY + Eta @ (ec.YtAY + manifold._YtYsq) \\\n",
    "            + Y @ (EtatAY + EtatY @ manifold._YtY + ricc._symm2(manifold._YtY @ EtatY))\n",
    "        SAEta = ec.AY @ (Y.T @ AEta) + Y @ (ec.AY.T @ AEta + manifold._YtY @ Y.T @ AEta) - C @ (C.T @ AEta)\n",
    "\n",
    "        SdotAY = ec.AY @ (Eta.T @ ec.AY) + AEta @ ec.YtAY + Eta @ (ec.YtAsqY + manifold._YtY @ ec.YtAY) \\\n",
    "            + Y @ (Eta.T @ manifold._AsqY + ricc._symm2(EtatY) @ ec.YtAY + manifold._YtY @ EtatAY)\n",
    "\n",
    "        PdotY = A @ SdotY + SdotAY + (SdotY + SEta) @ manifold._YtY + SY @ EtatY + Y @ ((SdotY.T + SEta.T) @ Y) + Eta @ (SY.T @ Y)\n",
    "\n",
    "        PEta = A @ SEta + SAEta + SY @ YtEta + Y @ (Y.T @ SEta)\n",
    "        He = PdotY + PEta\n",
    "        if ec.Ge is None or ec.Gr is None:\n",
    "            Ge, Gr = euc_grad_pt2(Y, SY)\n",
    "        else:\n",
    "            Ge, Gr = ec.Ge, ec.Gr\n",
    "        Hr = manifold.euclidean_to_riemannian_hessian(Y, Ge, He, Eta)\n",
    "    return Hr\n",
    "\n",
    "@pymanopt.function.numpy(manifold)\n",
    "def cost(Y):\n",
    "    with torch.no_grad():\n",
    "        Y = torch.Tensor(Y)\n",
    "        manifold._preprocess(Y)\n",
    "        L = torch.cat([C, A @ Y, Y], -1)\n",
    "        _, Lr = torch.linalg.qr(L, 'reduced')\n",
    "        s = C.size()[-1]\n",
    "        Lc = Lr[:, :s]\n",
    "        L2 = Lr[:, s:s+k]\n",
    "        Ly = Lr[:, s+k:]\n",
    "    return ((-Lc @ Lc.T + ricc._symm2(L2 @ Ly.T) + Ly @ manifold._YtY @ Ly.T) ** 2).sum() / 4\n",
    "problem = pymanopt.Problem(manifold, cost, euclidean_gradient=euc_grad, euclidean_hessian=euc_hess)\n",
    "truster = pymanopt.optimizers.trust_regions.TrustRegions()\n",
    "opt_result = truster.run(problem)\n",
    "\n",
    "# real slow...\n",
    "\"\"\"\n",
    "print()"
   ]
  },
  {
   "cell_type": "markdown",
   "id": "7171502e-c48c-4e99-9d64-bca24f3375f3",
   "metadata": {},
   "source": [
    "# homemade low-rank kronecker lyap solver"
   ]
  },
  {
   "cell_type": "code",
   "execution_count": 99,
   "id": "743d4b8b-b690-447c-98e8-87c4b60167b0",
   "metadata": {},
   "outputs": [
    {
     "name": "stdout",
     "output_type": "stream",
     "text": [
      "0.0403289794921875\n",
      "tensor(0.4498) tensor([[-0.9292]])\n"
     ]
    }
   ],
   "source": [
    "\n",
    "torch.manual_seed(95054)\n",
    "st = time.time()\n",
    "Z = ricc.kron_lyap_greedy(A, C, rank=10, max_it=4)\n",
    "print(time.time()-st)\n",
    "\n",
    "def cost_lya(Z):\n",
    "    AZ = A @ Z\n",
    "    L = torch.cat([C, AZ, Z], -1)\n",
    "    _, Lr = torch.linalg.qr(L)\n",
    "    Lc, LAz, Lz = torch.split(Lr, [C.shape[-1], Z.shape[-1], Z.shape[-1]], dim=-1)\n",
    "    mat = -Lc @ Lc.T + ricc._symm2(LAz @ Lz.T)\n",
    "    return (mat ** 2).sum()\n",
    "\n",
    "def cost_lya_induced(Z):\n",
    "    CtZ = (C.T @ Z)\n",
    "    return (Z * (A @ Z @ (Z.T @ Z))).sum() - CtZ @ CtZ.T\n",
    "\n",
    "print(torch.sqrt(cost_lya(Z)), cost_lya_induced(Z))"
   ]
  },
  {
   "cell_type": "markdown",
   "id": "a0174abc-88a1-4b5e-9e1a-581b43889627",
   "metadata": {},
   "source": [
    "# homemade low-rank kronecker+low-rank lyap solver"
   ]
  },
  {
   "cell_type": "code",
   "execution_count": 104,
   "id": "0d1102f4-763e-4e8a-80f8-5ccd287b8a60",
   "metadata": {},
   "outputs": [],
   "source": [
    "S, U = A.eigh()"
   ]
  },
  {
   "cell_type": "code",
   "execution_count": 108,
   "id": "98b537be-6ece-4b86-9010-dc375cc5c5af",
   "metadata": {},
   "outputs": [
    {
     "name": "stderr",
     "output_type": "stream",
     "text": [
      "/localhome/jonathan.mei/miniconda/envs/krad/lib/python3.10/site-packages/numpy/core/shape_base.py:65: FutureWarning: The input object of type 'Tensor' is an array-like implementing one of the corresponding protocols (`__array__`, `__array_interface__` or `__array_struct__`); but not a sequence (or 0-D). In the future, this object will be coerced as if it was first converted using `np.array(obj)`. To retain the old behaviour, you have to either modify the type 'Tensor', or assign to an empty array created with `np.empty(correct_shape, dtype=object)`.\n",
      "  ary = asanyarray(ary)\n",
      "/localhome/jonathan.mei/miniconda/envs/krad/lib/python3.10/site-packages/numpy/core/shape_base.py:65: VisibleDeprecationWarning: Creating an ndarray from ragged nested sequences (which is a list-or-tuple of lists-or-tuples-or ndarrays with different lengths or shapes) is deprecated. If you meant to do this, you must specify 'dtype=object' when creating the ndarray.\n",
      "  ary = asanyarray(ary)\n"
     ]
    },
    {
     "data": {
      "text/plain": [
       "[<matplotlib.lines.Line2D at 0x7fce50f02350>]"
      ]
     },
     "execution_count": 108,
     "metadata": {},
     "output_type": "execute_result"
    },
    {
     "data": {
      "image/png": "[encoded data removed]",
      "text/plain": [
       "<Figure size 640x480 with 1 Axes>"
      ]
     },
     "metadata": {},
     "output_type": "display_data"
    }
   ],
   "source": [
    "import matplotlib.pyplot as plt\n",
    "plt.plot(sorted(S.as_vec()))"
   ]
  },
  {
   "cell_type": "code",
   "execution_count": 159,
   "id": "98b2e8f1-6cfb-4018-9d03-d4fe36edf5be",
   "metadata": {},
   "outputs": [
    {
     "name": "stdout",
     "output_type": "stream",
     "text": [
      "0.08812880516052246\n",
      "tensor(0.2553) tensor([[-1447.0728]])\n"
     ]
    }
   ],
   "source": [
    "\n",
    "torch.manual_seed(95054)\n",
    "B = torch.randn(576,3)\n",
    "st = time.time()\n",
    "Z = ricc.kron_lyap_lr_greedy_energy(A.double(), B.double(), C.double(), rank=25, max_it=3).float()\n",
    "#Z = ricc.kron_lyap_lr_greedy_fro(A.double(), B.double(), C.double(), rank=25, max_it=4).float()\n",
    "print(time.time()-st)\n",
    "\n",
    "def cost_lya_lr(Z):\n",
    "    AZ = A @ Z + B @ (B.T @ Z)\n",
    "    L = torch.cat([C, AZ, Z], -1)\n",
    "    _, Lr = torch.linalg.qr(L)\n",
    "    Lc, LAz, Lz = torch.split(Lr, [C.shape[-1], Z.shape[-1], Z.shape[-1]], dim=-1)\n",
    "    mat = -Lc @ Lc.T + ricc._symm2(LAz @ Lz.T)\n",
    "    return (mat ** 2).sum()\n",
    "\n",
    "def cost_lya_lr_induced(Z):\n",
    "    CtZ = (C.T @ Z)\n",
    "    return (Z * (  (A @ Z + B @ (B.T @ Z))  @ (Z.T @ Z))).sum() - 2 * CtZ @ CtZ.T\n",
    "\n",
    "\n",
    "print(torch.sqrt(cost_lya_lr(Z)), cost_lya_lr_induced(Z))"
   ]
  },
  {
   "cell_type": "markdown",
   "id": "03c9d289-e5ab-4f80-ae3f-a4f94cfb13e3",
   "metadata": {},
   "source": [
    "# homemade riccati solver (using the lr kron lr lyap solver above)"
   ]
  },
  {
   "cell_type": "code",
   "execution_count": 235,
   "id": "c3455a4d-32a7-4a11-b2af-d33df4ac54d1",
   "metadata": {},
   "outputs": [
    {
     "name": "stdout",
     "output_type": "stream",
     "text": [
      "0.1852436065673828\n",
      "0.0005049861\n"
     ]
    }
   ],
   "source": [
    "\n",
    "torch.manual_seed(95054)\n",
    "st = time.time()\n",
    "#Z = ricc.kron_riccati_lr_greedy_nm(A.double(), C.double(), rank=25)\n",
    "Z = ricc.kron_riccati_lr_greedy_nm(A, C, rank=25, rank_inc=2, max_it=4)\n",
    "print(time.time()-st)\n",
    "\n",
    "def costQR(Y):\n",
    "    if isinstance(Y, np.ndarray):\n",
    "        Y = torch.Tensor(Y)\n",
    "    YtY = Y.T @ Y\n",
    "    AY = A @ Y\n",
    "    s = C.size()[-1]\n",
    "    k = Y.size()[-1]\n",
    "    L = torch.cat([C, AY, Y], -1)\n",
    "    Lq, Lr = torch.linalg.qr(L, 'reduced')    \n",
    "    Lc, LAy, Ly = torch.split(Lr, [s, k, k], dim=-1)\n",
    "    Mat1 = -Lc @ Lc.T + ricc._symm2(LAy @ Ly.T) + Ly @ YtY @ Ly.T\n",
    "    return Lq, Lr, Mat1\n",
    "\n",
    "def cost_ricc(Y):\n",
    "    _, _, Mat1 = costQR(Y)\n",
    "    return (Mat1 ** 2).sum() / 4\n",
    "\n",
    "print(torch.sqrt(cost_ricc(Z)).numpy())"
   ]
  },
  {
   "cell_type": "code",
   "execution_count": 229,
   "id": "8f9d9b1a-b6d0-4b10-b517-1dc2da654228",
   "metadata": {
    "collapsed": true,
    "jupyter": {
     "outputs_hidden": true
    },
    "tags": []
   },
   "outputs": [
    {
     "name": "stdout",
     "output_type": "stream",
     "text": [
      "         29094 function calls (28766 primitive calls) in 0.208 seconds\n",
      "\n",
      "   Ordered by: internal time\n",
      "\n",
      "   ncalls  tottime  percall  cumtime  percall filename:lineno(function)\n",
      "     1122    0.057    0.000    0.057    0.000 {built-in method torch.tensordot}\n",
      "       13    0.030    0.002    0.191    0.015 riccati.py:237(kron_lyap_lr_greedy_energy)\n",
      "      120    0.016    0.000    0.016    0.000 {built-in method torch._C._linalg.linalg_solve}\n",
      "      561    0.010    0.000    0.087    0.000 riccati.py:23(__matmul__)\n",
      "      148    0.007    0.000    0.012    0.000 riccati.py:256(cost_fro)\n",
      "     1122    0.007    0.000    0.065    0.000 functional.py:1006(tensordot)\n",
      "      176    0.006    0.000    0.032    0.000 riccati.py:252(mul_AB)\n",
      "     1122    0.006    0.000    0.006    0.000 {method 'reshape' of 'torch._C._TensorBase' objects}\n",
      "      150    0.006    0.000    0.006    0.000 riccati.py:278(mul_Cj)\n",
      "       26    0.005    0.000    0.005    0.000 {built-in method torch._C._linalg.linalg_qr}\n",
      "       25    0.004    0.000    0.007    0.000 riccati.py:145(lyapunov_reg)\n",
      "     1147    0.004    0.000    0.004    0.000 {method 'transpose' of 'torch._C._TensorBase' objects}\n",
      "       25    0.004    0.000    0.020    0.001 riccati.py:316(kron_lyap_lr_galerkin)\n",
      "      242    0.003    0.000    0.003    0.000 {method 'reduce' of 'numpy.ufunc' objects}\n",
      "       52    0.003    0.000    0.003    0.000 {built-in method torch._C._linalg.linalg_eigh}\n",
      "      451    0.003    0.000    0.003    0.000 {method 'pow' of 'torch._C._TensorBase' objects}\n",
      "      125    0.003    0.000    0.003    0.000 {built-in method torch.cat}\n",
      "      240    0.003    0.000    0.003    0.000 _tensor.py:835(__rdiv__)\n",
      "      242    0.002    0.000    0.009    0.000 riccati.py:13(__init__)\n",
      "      118    0.002    0.000    0.002    0.000 riccati.py:254(mul_C)\n",
      "      131    0.002    0.000    0.010    0.000 riccati.py:264(<genexpr>)\n",
      "       25    0.002    0.000    0.004    0.000 positive_matrix_functions.py:312(matrix_power_svd)\n",
      "      360    0.002    0.000    0.002    0.000 {built-in method torch.sqrt}\n",
      "      170    0.002    0.000    0.002    0.000 {built-in method torch.eye}\n",
      "        1    0.001    0.001    0.208    0.208 riccati.py:331(kron_riccati_lr_greedy_nm)\n",
      "     1173    0.001    0.000    0.001    0.000 {method 'type' of 'torch._C._TensorBase' objects}\n",
      "6246/6196    0.001    0.000    0.001    0.000 {built-in method builtins.isinstance}\n",
      "      720    0.001    0.000    0.001    0.000 riccati.py:68(<genexpr>)\n",
      "      133    0.001    0.000    0.001    0.000 {method 'sum' of 'torch._C._TensorBase' objects}\n",
      "    279/1    0.001    0.000    0.208    0.208 grad_mode.py:24(decorate_context)\n",
      "      666    0.001    0.000    0.007    0.000 _tensor.py:33(wrapped)\n",
      "      242    0.001    0.000    0.005    0.000 fromnumeric.py:69(_wrapreduction)\n",
      "      240    0.001    0.000    0.011    0.000 riccati.py:66(T)\n",
      "      240    0.001    0.000    0.001    0.000 {method 'reciprocal' of 'torch._C._TensorBase' objects}\n",
      "     1122    0.001    0.000    0.001    0.000 _VF.py:26(__getattr__)\n",
      "     1364    0.001    0.000    0.001    0.000 {built-in method builtins.getattr}\n",
      "      558    0.001    0.000    0.001    0.000 grad_mode.py:227(__init__)\n",
      "      279    0.001    0.000    0.001    0.000 grad_mode.py:126(__init__)\n",
      "      726    0.001    0.000    0.001    0.000 riccati.py:16(<genexpr>)\n",
      "      242    0.000    0.000    0.005    0.000 fromnumeric.py:2927(prod)\n",
      "      279    0.000    0.000    0.001    0.000 grad_mode.py:131(__enter__)\n",
      "       30    0.000    0.000    0.000    0.000 {built-in method torch.randn}\n",
      "      120    0.000    0.000    0.003    0.000 positive_matrix_functions.py:10(_mat_fro_norm)\n",
      "      242    0.000    0.000    0.006    0.000 <__array_function__ internals>:177(prod)\n",
      "      242    0.000    0.000    0.006    0.000 {built-in method numpy.core._multiarray_umath.implement_array_function}\n",
      "       50    0.000    0.000    0.000    0.000 {built-in method torch.maximum}\n",
      "     1122    0.000    0.000    0.000    0.000 {built-in method torch._C._has_torch_function_variadic}\n",
      "      279    0.000    0.000    0.001    0.000 grad_mode.py:135(__exit__)\n",
      "      837    0.000    0.000    0.000    0.000 {built-in method torch.is_grad_enabled}\n",
      "       25    0.000    0.000    0.000    0.000 riccati.py:190(_symm2)\n",
      "      279    0.000    0.000    0.001    0.000 grad_mode.py:82(clone)\n",
      "      666    0.000    0.000    0.000    0.000 {built-in method torch._C._has_torch_function}\n",
      "      242    0.000    0.000    0.000    0.000 fromnumeric.py:70(<dictcomp>)\n",
      "       25    0.000    0.000    0.000    0.000 {built-in method torch.ones}\n",
      "      120    0.000    0.000    0.004    0.000 positive_matrix_functions.py:22(matrices_norm)\n",
      "      803    0.000    0.000    0.000    0.000 {built-in method builtins.len}\n",
      "       25    0.000    0.000    0.000    0.000 {built-in method torch.ones_like}\n",
      "      558    0.000    0.000    0.000    0.000 {built-in method torch._C._set_grad_enabled}\n",
      "       75    0.000    0.000    0.000    0.000 {method 'type_as' of 'torch._C._TensorBase' objects}\n",
      "        1    0.000    0.000    0.000    0.000 {built-in method torch.zeros_like}\n",
      "        1    0.000    0.000    0.208    0.208 {built-in method builtins.exec}\n",
      "      242    0.000    0.000    0.000    0.000 fromnumeric.py:2922(_prod_dispatcher)\n",
      "      242    0.000    0.000    0.000    0.000 {method 'items' of 'dict' objects}\n",
      "      279    0.000    0.000    0.000    0.000 _jit_internal.py:1082(is_scripting)\n",
      "        1    0.000    0.000    0.000    0.000 riccati.py:94(as_mat)\n",
      "        2    0.000    0.000    0.000    0.000 {built-in method torch.kron}\n",
      "       25    0.000    0.000    0.000    0.000 typing.py:993(__instancecheck__)\n",
      "       25    0.000    0.000    0.000    0.000 typing.py:1154(__subclasscheck__)\n",
      "       25    0.000    0.000    0.000    0.000 {method 'size' of 'torch._C._TensorBase' objects}\n",
      "       25    0.000    0.000    0.000    0.000 {built-in method _abc._abc_subclasscheck}\n",
      "        1    0.000    0.000    0.000    0.000 riccati.py:138(as_vec)\n",
      "       25    0.000    0.000    0.000    0.000 {built-in method builtins.issubclass}\n",
      "        1    0.000    0.000    0.001    0.001 riccati.py:83(_eig)\n",
      "       25    0.000    0.000    0.000    0.000 abc.py:121(__subclasscheck__)\n",
      "        1    0.000    0.000    0.000    0.000 riccati.py:88(<listcomp>)\n",
      "        1    0.000    0.000    0.208    0.208 <string>:1(<module>)\n",
      "        1    0.000    0.000    0.000    0.000 {method 'to' of 'torch._C._TensorBase' objects}\n",
      "        1    0.000    0.000    0.001    0.001 riccati.py:80(eigh)\n",
      "        3    0.000    0.000    0.000    0.000 riccati.py:90(<genexpr>)\n",
      "        3    0.000    0.000    0.000    0.000 riccati.py:91(<genexpr>)\n",
      "        1    0.000    0.000    0.000    0.000 {method 'disable' of '_lsprof.Profiler' objects}\n",
      "\n",
      "\n"
     ]
    }
   ],
   "source": [
    "import cProfile\n",
    "cProfile.run('ricc.kron_riccati_lr_greedy_nm(A, C, rank=25, rank_inc=2, max_it=4)', sort='tottime')"
   ]
  },
  {
   "cell_type": "markdown",
   "id": "abbbeaef-9aa0-4dfe-99fc-40bc0c434969",
   "metadata": {},
   "source": [
    "# pymanopt initialized by homemade kron lr nm"
   ]
  },
  {
   "cell_type": "code",
   "execution_count": 246,
   "id": "6619b271-8e64-4c0f-83d7-2f340d1b5611",
   "metadata": {},
   "outputs": [
    {
     "name": "stdout",
     "output_type": "stream",
     "text": [
      "0.3854501247406006\n",
      "0.00046324028668571577\n"
     ]
    }
   ],
   "source": [
    "n=576\n",
    "k=Z.shape[-1]\n",
    "\n",
    "manifold = pymanopt.manifolds.PSDFixedRank(n, k)\n",
    "\n",
    "def costQR(Y):\n",
    "    if isinstance(Y, np.ndarray):\n",
    "        Y = torch.Tensor(Y)\n",
    "    YtY = Y.T @ Y\n",
    "    AY = A @ Y\n",
    "    s = C.size()[-1]\n",
    "    k = Y.size()[-1]\n",
    "    L = torch.cat([C, AY, Y], -1)\n",
    "    Lq, Lr = torch.linalg.qr(L)\n",
    "    Lc, LAy, Ly = torch.split(Lr, [s, k, k], dim=-1)\n",
    "    Mat1 = -Lc @ Lc.T + ricc._symm2(LAy @ Ly.T) + Ly @ YtY @ Ly.T\n",
    "    return Lq, Lr, Mat1\n",
    "\n",
    "\n",
    "@pymanopt.function.pytorch(manifold)\n",
    "def cost(Y):\n",
    "    _, _, Mat1 = costQR(Y)\n",
    "    return (Mat1 ** 2).sum() / 4\n",
    "\n",
    "problem = pymanopt.Problem(manifold, cost)\n",
    "\n",
    "st = time.time()\n",
    "truster = pymanopt.optimizers.trust_regions.TrustRegions(max_iterations=2, verbosity=0, log_verbosity=0)\n",
    "opt_result = truster.run(problem, initial_point=Z.numpy(), maxinner=20)\n",
    "print(time.time()-st)\n",
    "print(np.sqrt(opt_result.cost))\n",
    "\n",
    "    "
   ]
  },
  {
   "cell_type": "code",
   "execution_count": 271,
   "id": "528345f4-54e2-41e6-9e8d-c0969963fed7",
   "metadata": {},
   "outputs": [
    {
     "name": "stdout",
     "output_type": "stream",
     "text": [
      "25\n",
      "0.32283449172973633\n",
      "0.00033527022\n"
     ]
    }
   ],
   "source": [
    "k=25\n",
    "print(k)\n",
    "st = time.time()\n",
    "Z = ricc.riccati_kron_solve(A, C, k, greedy_iter=4)\n",
    "print(time.time()-st)\n",
    "\n",
    "print(np.sqrt(cost(Z.numpy())))"
   ]
  },
  {
   "cell_type": "markdown",
   "id": "bcb371ab-1d6a-4c95-afa6-8c5ed3d5c20b",
   "metadata": {},
   "source": [
    "# ^ Good enuff accuracy wise, but still kinda slow esp on larger problems"
   ]
  },
  {
   "cell_type": "code",
   "execution_count": 274,
   "id": "f1688013-0c09-4df7-b4b5-7d7e43e79604",
   "metadata": {},
   "outputs": [
    {
     "name": "stdout",
     "output_type": "stream",
     "text": [
      "         37965 function calls (37507 primitive calls) in 0.370 seconds\n",
      "\n",
      "   Ordered by: internal time\n",
      "\n",
      "   ncalls  tottime  percall  cumtime  percall filename:lineno(function)\n",
      "     1382    0.150    0.000    0.150    0.000 {built-in method torch.tensordot}\n",
      "       25    0.036    0.001    0.316    0.013 riccati.py:237(kron_lyap_lr_greedy_energy)\n",
      "      136    0.020    0.000    0.020    0.000 {built-in method torch._C._linalg.linalg_solve}\n",
      "       64    0.018    0.000    0.018    0.000 {built-in method torch._C._linalg.linalg_qr}\n",
      "      312    0.012    0.000    0.019    0.000 riccati.py:256(cost_fro)\n",
      "      691    0.011    0.000    0.184    0.000 riccati.py:23(__matmul__)\n",
      "      220    0.010    0.000    0.079    0.000 riccati.py:252(mul_AB)\n",
      "       49    0.009    0.000    0.041    0.001 riccati.py:317(kron_lyap_lr_galerkin)\n",
      "       49    0.008    0.000    0.013    0.000 riccati.py:145(lyapunov_reg)\n",
      "     1382    0.007    0.000    0.160    0.000 functional.py:1006(tensordot)\n",
      "     1382    0.007    0.000    0.007    0.000 {method 'reshape' of 'torch._C._TensorBase' objects}\n",
      "      100    0.006    0.000    0.006    0.000 {built-in method torch._C._linalg.linalg_eigh}\n",
      "      170    0.005    0.000    0.005    0.000 riccati.py:278(mul_Cj)\n",
      "      188    0.005    0.000    0.005    0.000 {built-in method torch.cat}\n",
      "     1431    0.004    0.000    0.004    0.000 {method 'transpose' of 'torch._C._TensorBase' objects}\n",
      "      721    0.004    0.000    0.004    0.000 {method 'pow' of 'torch._C._TensorBase' objects}\n",
      "      278    0.004    0.000    0.004    0.000 riccati.py:254(mul_C)\n",
      "      302    0.004    0.000    0.004    0.000 {method 'reduce' of 'numpy.ufunc' objects}\n",
      "        1    0.003    0.003    0.347    0.347 riccati.py:332(kron_riccati_lr_greedy_nm)\n",
      "      303    0.003    0.000    0.019    0.000 riccati.py:264(<genexpr>)\n",
      "       14    0.003    0.000    0.019    0.001 riccati.py:384(cost)\n",
      "       49    0.003    0.000    0.008    0.000 positive_matrix_functions.py:312(matrix_power_svd)\n",
      "      288    0.002    0.000    0.011    0.000 riccati.py:13(__init__)\n",
      "      272    0.002    0.000    0.003    0.000 _tensor.py:835(__rdiv__)\n",
      "      234    0.002    0.000    0.002    0.000 {built-in method torch.eye}\n",
      "        1    0.002    0.002    0.002    0.002 {method 'run_backward' of 'torch._C._EngineBase' objects}\n",
      "     1481    0.002    0.000    0.002    0.000 {method 'type' of 'torch._C._TensorBase' objects}\n",
      "      408    0.002    0.000    0.002    0.000 {built-in method torch.sqrt}\n",
      "      864    0.002    0.000    0.002    0.000 riccati.py:16(<genexpr>)\n",
      "7826/7728    0.001    0.000    0.002    0.000 {built-in method builtins.isinstance}\n",
      "    347/1    0.001    0.000    0.347    0.347 grad_mode.py:24(decorate_context)\n",
      "      175    0.001    0.000    0.001    0.000 {method 'sum' of 'torch._C._TensorBase' objects}\n",
      "      816    0.001    0.000    0.001    0.000 riccati.py:68(<genexpr>)\n",
      "      944    0.001    0.000    0.009    0.000 _tensor.py:33(wrapped)\n",
      "      302    0.001    0.000    0.005    0.000 fromnumeric.py:69(_wrapreduction)\n",
      "      272    0.001    0.000    0.012    0.000 riccati.py:66(T)\n",
      "     1396    0.001    0.000    0.001    0.000 _VF.py:26(__getattr__)\n",
      "      272    0.001    0.000    0.001    0.000 {method 'reciprocal' of 'torch._C._TensorBase' objects}\n",
      "      347    0.001    0.000    0.001    0.000 grad_mode.py:126(__init__)\n",
      "      694    0.001    0.000    0.001    0.000 grad_mode.py:227(__init__)\n",
      "     1729    0.001    0.000    0.001    0.000 {built-in method builtins.getattr}\n",
      "       63    0.001    0.000    0.001    0.000 riccati.py:190(_symm2)\n",
      "       98    0.001    0.000    0.001    0.000 {built-in method torch.maximum}\n",
      "      288    0.001    0.000    0.006    0.000 fromnumeric.py:2927(prod)\n",
      "      347    0.001    0.000    0.001    0.000 grad_mode.py:131(__enter__)\n",
      "       34    0.000    0.000    0.000    0.000 {built-in method torch.randn}\n",
      "      136    0.000    0.000    0.003    0.000 positive_matrix_functions.py:10(_mat_fro_norm)\n",
      "      304    0.000    0.000    0.006    0.000 {built-in method numpy.core._multiarray_umath.implement_array_function}\n",
      "        1    0.000    0.000    0.015    0.015 line_search.py:20(search)\n",
      "       49    0.000    0.000    0.000    0.000 {built-in method torch.ones}\n",
      "      288    0.000    0.000    0.007    0.000 <__array_function__ internals>:177(prod)\n",
      "      347    0.000    0.000    0.001    0.000 grad_mode.py:135(__exit__)\n",
      "     1382    0.000    0.000    0.000    0.000 {built-in method torch._C._has_torch_function_variadic}\n",
      "      347    0.000    0.000    0.001    0.000 grad_mode.py:82(clone)\n",
      "     1041    0.000    0.000    0.000    0.000 {built-in method torch.is_grad_enabled}\n",
      "       50    0.000    0.000    0.000    0.000 {built-in method torch.ones_like}\n",
      "      944    0.000    0.000    0.000    0.000 {built-in method torch._C._has_torch_function}\n",
      "      302    0.000    0.000    0.000    0.000 fromnumeric.py:70(<dictcomp>)\n",
      "       11    0.000    0.000    0.000    0.000 psd.py:46(exp)\n",
      "      147    0.000    0.000    0.000    0.000 {method 'type_as' of 'torch._C._TensorBase' objects}\n",
      "      981    0.000    0.000    0.000    0.000 {built-in method builtins.len}\n",
      "      136    0.000    0.000    0.004    0.000 positive_matrix_functions.py:22(matrices_norm)\n",
      "        1    0.000    0.000    0.000    0.000 {built-in method torch.zeros_like}\n",
      "      694    0.000    0.000    0.000    0.000 {built-in method torch._C._set_grad_enabled}\n",
      "       14    0.000    0.000    0.000    0.000 _pytorch.py:26(_from_numpy)\n",
      "       13    0.000    0.000    0.018    0.001 _pytorch.py:44(wrapper)\n",
      "       14    0.000    0.000    0.000    0.000 {built-in method torch.split_with_sizes}\n",
      "       15    0.000    0.000    0.000    0.000 {method 'numpy' of 'torch._C._TensorBase' objects}\n",
      "        1    0.000    0.000    0.022    0.022 steepest_descent.py:33(run)\n",
      "       14    0.000    0.000    0.000    0.000 _tensor.py:773(split)\n",
      "       14    0.000    0.000    0.000    0.000 {built-in method torch.from_numpy}\n",
      "      288    0.000    0.000    0.000    0.000 fromnumeric.py:2922(_prod_dispatcher)\n",
      "       77    0.000    0.000    0.000    0.000 {method 'size' of 'torch._C._TensorBase' objects}\n",
      "        6    0.000    0.000    0.000    0.000 version.py:183(__init__)\n",
      "      303    0.000    0.000    0.000    0.000 {method 'items' of 'dict' objects}\n",
      "      347    0.000    0.000    0.000    0.000 _jit_internal.py:1082(is_scripting)\n",
      "        1    0.000    0.000    0.000    0.000 riccati.py:94(as_mat)\n",
      "       49    0.000    0.000    0.000    0.000 typing.py:993(__instancecheck__)\n",
      "       49    0.000    0.000    0.000    0.000 typing.py:1154(__subclasscheck__)\n",
      "        2    0.000    0.000    0.000    0.000 {built-in method torch.kron}\n",
      "        1    0.000    0.000    0.023    0.023 riccati.py:380(kron_riccati_riemann_refinement)\n",
      "       14    0.000    0.000    0.000    0.000 riccati.py:103(_as_device_or_dtype)\n",
      "       49    0.000    0.000    0.000    0.000 {built-in method _abc._abc_subclasscheck}\n",
      "       43    0.000    0.000    0.000    0.000 {method 'cpu' of 'torch._C._TensorBase' objects}\n",
      "        1    0.000    0.000    0.004    0.004 _pytorch.py:60(gradient)\n",
      "     15/1    0.000    0.000    0.000    0.000 copy.py:128(deepcopy)\n",
      "       54    0.000    0.000    0.000    0.000 {built-in method builtins.issubclass}\n",
      "       14    0.000    0.000    0.000    0.000 {built-in method numpy.array}\n",
      "        2    0.000    0.000    0.000    0.000 linalg.py:2357(norm)\n",
      "        1    0.000    0.000    0.370    0.370 {built-in method builtins.exec}\n",
      "        6    0.000    0.000    0.000    0.000 {method 'search' of 're.Pattern' objects}\n",
      "       42    0.000    0.000    0.000    0.000 riccati.py:106(<genexpr>)\n",
      "        1    0.000    0.000    0.000    0.000 riccati.py:138(as_vec)\n",
      "        6    0.000    0.000    0.000    0.000 version.py:503(_cmpkey)\n",
      "       14    0.000    0.000    0.000    0.000 fromnumeric.py:2307(any)\n",
      "       49    0.000    0.000    0.000    0.000 abc.py:121(__subclasscheck__)\n",
      "       14    0.000    0.000    0.000    0.000 riccati.py:390(<listcomp>)\n",
      "       14    0.000    0.000    0.000    0.000 functional.py:140(split)\n",
      "        2    0.000    0.000    0.000    0.000 {method 'dot' of 'numpy.ndarray' objects}\n",
      "        1    0.000    0.000    0.000    0.000 inspect.py:1252(getfullargspec)\n",
      "        1    0.000    0.000    0.002    0.002 __init__.py:103(backward)\n",
      "        4    0.000    0.000    0.000    0.000 functools.py:35(update_wrapper)\n",
      "       14    0.000    0.000    0.000    0.000 <__array_function__ internals>:177(any)\n",
      "       14    0.000    0.000    0.021    0.002 problem.py:183(wrapper)\n",
      "        1    0.000    0.000    0.000    0.000 optimizer.py:87(_check_stopping_criterion)\n",
      "        1    0.000    0.000    0.000    0.000 inspect.py:2279(_signature_from_function)\n",
      "       13    0.000    0.000    0.018    0.001 __init__.py:39(__call__)\n",
      "        9    0.000    0.000    0.000    0.000 torch_version.py:22(get_cls)\n",
      "        1    0.000    0.000    0.000    0.000 __init__.py:47(_make_grads)\n",
      "        1    0.000    0.000    0.000    0.000 problem.py:45(__init__)\n",
      "        1    0.000    0.000    0.001    0.001 riccati.py:83(_eig)\n",
      "       60    0.000    0.000    0.000    0.000 {method 'group' of 're.Match' objects}\n",
      "       10    0.000    0.000    0.000    0.000 problem.py:110(__setattr__)\n",
      "        3    0.000    0.000    0.000    0.000 torch_version.py:75(_cmp_wrapper)\n",
      "        2    0.000    0.000    0.000    0.000 {method 'to' of 'torch._C._TensorBase' objects}\n",
      "        1    0.000    0.000    0.000    0.000 inspect.py:2374(_signature_from_callable)\n",
      "        1    0.000    0.000    0.370    0.370 riccati.py:406(riccati_kron_solve)\n",
      "       24    0.000    0.000    0.000    0.000 version.py:202(<genexpr>)\n",
      "        1    0.000    0.000    0.000    0.000 psd.py:111(__init__)\n",
      "        1    0.000    0.000    0.000    0.000 __init__.py:8(__init__)\n",
      "        1    0.000    0.000    0.000    0.000 copy.py:259(_reconstruct)\n",
      "        1    0.000    0.000    0.000    0.000 __init__.py:72(inner)\n",
      "       29    0.000    0.000    0.000    0.000 {built-in method torch._C._has_torch_function_unary}\n",
      "        1    0.000    0.000    0.002    0.002 _tensor.py:428(backward)\n",
      "        6    0.000    0.000    0.000    0.000 torch_version.py:31(__call__)\n",
      "        6    0.000    0.000    0.000    0.000 version.py:491(_parse_local_version)\n",
      "        2    0.000    0.000    0.000    0.000 problem.py:169(_wrap_function)\n",
      "        1    0.000    0.000    0.000    0.000 {method 'requires_grad_' of 'torch._C._TensorBase' objects}\n",
      "        1    0.000    0.000    0.000    0.000 {built-in method torch._C._are_functorch_transforms_active}\n",
      "        1    0.000    0.000    0.000    0.000 optimizer.py:82(_return_result)\n",
      "        1    0.000    0.000    0.000    0.000 inspect.py:2633(__init__)\n",
      "        3    0.000    0.000    0.000    0.000 _pytorch.py:22(is_available)\n",
      "        1    0.000    0.000    0.000    0.000 inspect.py:2916(__init__)\n",
      "        1    0.000    0.000    0.000    0.000 _pytorch.py:42(prepare_function)\n",
      "        1    0.000    0.000    0.000    0.000 copy.py:227(_deepcopy_dict)\n",
      "        1    0.000    0.000    0.000    0.000 <string>:1(<lambda>)\n",
      "        2    0.000    0.000    0.000    0.000 _backend.py:32(wrapper)\n",
      "        2    0.000    0.000    0.000    0.000 psd.py:27(norm)\n",
      "        3    0.000    0.000    0.000    0.000 torch_version.py:59(_convert_to_version)\n",
      "       33    0.000    0.000    0.000    0.000 {method 'get' of 'dict' objects}\n",
      "        6    0.000    0.000    0.000    0.000 version.py:496(<genexpr>)\n",
      "        1    0.000    0.000    0.004    0.004 __init__.py:43(wrapper)\n",
      "        2    0.000    0.000    0.000    0.000 copy.py:243(_keep_alive)\n",
      "        1    0.000    0.000    0.000    0.000 psd.py:8(__init__)\n",
      "        1    0.000    0.000    0.000    0.000 problem.py:195(_wrap_gradient_operator)\n",
      "        2    0.000    0.000    0.000    0.000 <__array_function__ internals>:177(norm)\n",
      "       18    0.000    0.000    0.000    0.000 version.py:452(_parse_letter_version)\n",
      "        1    0.000    0.000    0.000    0.000 optimizer.py:124(_initialize_log)\n",
      "        1    0.000    0.000    0.000    0.000 _pytorch.py:50(_sanitize_gradient)\n",
      "        1    0.000    0.000    0.000    0.000 _pytorch.py:61(<listcomp>)\n",
      "        2    0.000    0.000    0.000    0.000 {method 'ravel' of 'numpy.ndarray' objects}\n",
      "        1    0.000    0.000    0.000    0.000 manifold.py:52(__init__)\n",
      "        1    0.000    0.000    0.000    0.000 __init__.py:65(decorator)\n",
      "        1    0.000    0.000    0.000    0.000 riccati.py:88(<listcomp>)\n",
      "       14    0.000    0.000    0.000    0.000 fromnumeric.py:2302(_any_dispatcher)\n",
      "        1    0.000    0.000    0.000    0.000 optimizer.py:41(__init__)\n",
      "        1    0.000    0.000    0.370    0.370 <string>:1(<module>)\n",
      "        1    0.000    0.000    0.000    0.000 _pytorch.py:55(_sanitize_gradients)\n",
      "        1    0.000    0.000    0.000    0.000 problem.py:251(riemannian_gradient)\n",
      "        1    0.000    0.000    0.004    0.004 problem.py:255(riemannian_gradient)\n",
      "        1    0.000    0.000    0.000    0.000 {method '__reduce_ex__' of 'object' objects}\n",
      "        1    0.000    0.000    0.000    0.000 steepest_descent.py:23(__init__)\n",
      "        4    0.000    0.000    0.000    0.000 functools.py:65(wraps)\n",
      "        1    0.000    0.000    0.000    0.000 problem.py:243(euclidean_gradient)\n",
      "        1    0.000    0.000    0.000    0.000 inspect.py:66(get_annotations)\n",
      "       11    0.000    0.000    0.000    0.000 {built-in method builtins.hasattr}\n",
      "        6    0.000    0.000    0.000    0.000 version.py:559(<genexpr>)\n",
      "        3    0.000    0.000    0.000    0.000 torch_version.py:87(<lambda>)\n",
      "        1    0.000    0.000    0.001    0.001 riccati.py:80(eigh)\n",
      "        1    0.000    0.000    0.000    0.000 __init__.py:36(unpack_singleton_sequence_return_value)\n",
      "        3    0.000    0.000    0.000    0.000 version.py:92(__ge__)\n",
      "        1    0.000    0.000    0.000    0.000 abc.py:117(__instancecheck__)\n",
      "        1    0.000    0.000    0.000    0.000 <string>:2(__init__)\n",
      "        2    0.000    0.000    0.000    0.000 linalg.py:117(isComplexType)\n",
      "        1    0.000    0.000    0.000    0.000 enum.py:359(__call__)\n",
      "        8    0.000    0.000    0.000    0.000 {built-in method __new__ of type object at 0x745520}\n",
      "       17    0.000    0.000    0.000    0.000 {built-in method builtins.setattr}\n",
      "        1    0.000    0.000    0.000    0.000 _pytorch.py:19(__init__)\n",
      "        1    0.000    0.000    0.000    0.000 line_search.py:4(__init__)\n",
      "       20    0.000    0.000    0.000    0.000 {built-in method builtins.id}\n",
      "        3    0.000    0.000    0.000    0.000 {method 'split' of 're.Pattern' objects}\n",
      "        1    0.000    0.000    0.000    0.000 manifold.py:102(num_values)\n",
      "        9    0.000    0.000    0.000    0.000 version.py:518(<lambda>)\n",
      "        1    0.000    0.000    0.000    0.000 _pytorch.py:58(generate_gradient_operator)\n",
      "        1    0.000    0.000    0.000    0.000 __init__.py:25(get_gradient_operator)\n",
      "        6    0.000    0.000    0.000    0.000 {method 'split' of 'str' objects}\n",
      "        5    0.000    0.000    0.000    0.000 {method 'update' of 'dict' objects}\n",
      "        2    0.000    0.000    0.000    0.000 inspect.py:2965(<genexpr>)\n",
      "        4    0.000    0.000    0.000    0.000 {built-in method time.time}\n",
      "        2    0.000    0.000    0.000    0.000 inspect.py:277(isfunction)\n",
      "       13    0.000    0.000    0.000    0.000 copy.py:182(_deepcopy_atomic)\n",
      "        1    0.000    0.000    0.000    0.000 {built-in method _abc._abc_instancecheck}\n",
      "        5    0.000    0.000    0.000    0.000 problem.py:115(_validate_function)\n",
      "        5    0.000    0.000    0.000    0.000 manifold.py:90(point_layout)\n",
      "        2    0.000    0.000    0.000    0.000 copy.py:264(<genexpr>)\n",
      "        3    0.000    0.000    0.000    0.000 riccati.py:90(<genexpr>)\n",
      "        1    0.000    0.000    0.000    0.000 enum.py:678(__new__)\n",
      "        2    0.000    0.000    0.000    0.000 inspect.py:2683(name)\n",
      "        1    0.000    0.000    0.000    0.000 copyreg.py:100(__newobj__)\n",
      "        1    0.000    0.000    0.000    0.000 __init__.py:95(_tensor_or_tensors_to_tuple)\n",
      "        1    0.000    0.000    0.000    0.000 optimizer.py:61(__str__)\n",
      "        2    0.000    0.000    0.000    0.000 {built-in method numpy.asarray}\n",
      "        1    0.000    0.000    0.000    0.000 problem.py:239(cost)\n",
      "        1    0.000    0.000    0.000    0.000 _backend.py:12(__init__)\n",
      "        1    0.000    0.000    0.000    0.000 {method 'numel' of 'torch._C._TensorBase' objects}\n",
      "        3    0.000    0.000    0.000    0.000 {method 'isdigit' of 'str' objects}\n",
      "        4    0.000    0.000    0.000    0.000 {method 'append' of 'list' objects}\n",
      "        3    0.000    0.000    0.000    0.000 riccati.py:91(<genexpr>)\n",
      "        1    0.000    0.000    0.000    0.000 {method 'values' of 'mappingproxy' objects}\n",
      "        3    0.000    0.000    0.000    0.000 {method 'lower' of 'str' objects}\n",
      "        2    0.000    0.000    0.000    0.000 linalg.py:2353(_norm_dispatcher)\n",
      "        1    0.000    0.000    0.000    0.000 optimizer.py:140(_add_log_entry)\n",
      "        1    0.000    0.000    0.000    0.000 inspect.py:2695(kind)\n",
      "        1    0.000    0.000    0.000    0.000 printer.py:7(print_header)\n",
      "        1    0.000    0.000    0.000    0.000 inspect.py:2691(annotation)\n",
      "        1    0.000    0.000    0.000    0.000 inspect.py:3006(return_annotation)\n",
      "        1    0.000    0.000    0.000    0.000 {method 'isidentifier' of 'str' objects}\n",
      "        3    0.000    0.000    0.000    0.000 {built-in method builtins.callable}\n",
      "        1    0.000    0.000    0.000    0.000 inspect.py:3002(parameters)\n",
      "        1    0.000    0.000    0.000    0.000 {method 'disable' of '_lsprof.Profiler' objects}\n",
      "        1    0.000    0.000    0.000    0.000 inspect.py:2687(default)\n",
      "        1    0.000    0.000    0.000    0.000 printer.py:10(print_row)\n",
      "        1    0.000    0.000    0.000    0.000 psd.py:38(euclidean_to_riemannian_gradient)\n",
      "\n",
      "\n"
     ]
    }
   ],
   "source": [
    "cProfile.run('ricc.riccati_kron_solve(A, C, k, greedy_iter=4)', sort='tottime')"
   ]
  },
  {
   "cell_type": "markdown",
   "id": "f63b558e-398d-4913-ba22-3fde2cf5591c",
   "metadata": {},
   "source": [
    "# Get Galerkin workin'"
   ]
  },
  {
   "cell_type": "code",
   "execution_count": 73,
   "id": "cd7bc892-30b2-4b38-bd4b-d0e92b832dcd",
   "metadata": {},
   "outputs": [
    {
     "name": "stdout",
     "output_type": "stream",
     "text": [
      "0.14072275161743164\n",
      "tensor(0.2485) tensor([[-30.3462]])\n",
      "0.001299142837524414\n",
      "tensor(0.2271) tensor([[-30.3474]])\n"
     ]
    }
   ],
   "source": [
    "torch.manual_seed(95054)\n",
    "st = time.time()\n",
    "B = torch.randn(576,3)\n",
    "Z = ricc.kron_lyap_lr_greedy(A, B, C, rank=25, max_it=4)\n",
    "print(time.time()-st)\n",
    "\n",
    "def cost_lya_lr(Z):\n",
    "    AZ = A @ Z + B @ (B.T @ Z)\n",
    "    L = torch.cat([C, AZ, Z], -1)\n",
    "    _, Lr = torch.linalg.qr(L)\n",
    "    Lc, LAz, Lz = torch.split(Lr, [C.shape[-1], Z.shape[-1], Z.shape[-1]], dim=-1)\n",
    "    mat = -Lc @ Lc.T + ricc._symm2(LAz @ Lz.T)\n",
    "    return (mat ** 2).sum()\n",
    "\n",
    "def cost_lya_lr_induced(Z):\n",
    "    CtZ = (C.T @ Z)\n",
    "    return (Z * (  (A @ Z + B @ (B.T @ Z))  @ (Z.T @ Z))).sum() - CtZ @ CtZ.T\n",
    "\n",
    "\n",
    "print(torch.sqrt(cost_lya_lr(Z)), cost_lya_lr_induced(Z))\n",
    "\n",
    "\n",
    "Q, R = torch.linalg.qr(Z)\n",
    "st = time.time()\n",
    "R = ricc.kron_lyap_lr_galerkin(A, B, C, Q, R @ R.T, lam=1e0)\n",
    "Z2 = Q @ R\n",
    "print(time.time()-st)\n",
    "print(torch.sqrt(cost_lya_lr(Z2)), cost_lya_lr_induced(Z2))"
   ]
  },
  {
   "cell_type": "code",
   "execution_count": null,
   "id": "7e1a369a-c254-4ff1-b85a-8977dfbc578c",
   "metadata": {},
   "outputs": [],
   "source": []
  },
  {
   "cell_type": "markdown",
   "id": "6efa1bb2-4f4b-416a-938e-d47e5737a38f",
   "metadata": {},
   "source": [
    "# homemade low-rank diag+low-rank lyap solver"
   ]
  },
  {
   "cell_type": "code",
   "execution_count": 403,
   "id": "e4310351-9a7a-4ef2-b037-b034927bde26",
   "metadata": {},
   "outputs": [
    {
     "name": "stdout",
     "output_type": "stream",
     "text": [
      "0.05988574028015137\n",
      "tensor(0.0050) tensor([[-0.6230]])\n"
     ]
    }
   ],
   "source": [
    "torch.manual_seed(95054)\n",
    "\n",
    "A = torch.rand(576,1)\n",
    "B = torch.randn(576,3)\n",
    "\n",
    "st = time.time()\n",
    "Z = ricc.diag_lyap_lr_greedy(A, B, C, rank=5, max_it=6)\n",
    "print(time.time()-st)\n",
    "\n",
    "def cost_lya_lr(Z):\n",
    "    AZ = A * Z + B @ (B.T @ Z)\n",
    "    L = torch.cat([C, AZ, Z], -1)\n",
    "    _, Lr = torch.linalg.qr(L)\n",
    "    Lc, LAz, Lz = torch.split(Lr, [C.shape[-1], Z.shape[-1], Z.shape[-1]], dim=-1)\n",
    "    mat = -Lc @ Lc.T + ricc._symm2(LAz @ Lz.T)\n",
    "    return (mat ** 2).sum()\n",
    "\n",
    "def cost_lya_lr_induced(Z):\n",
    "    CtZ = (C.T @ Z)\n",
    "    return (Z * (  (A * Z + B @ (B.T @ Z))  @ (Z.T @ Z))).sum() - CtZ @ CtZ.T\n",
    "\n",
    "\n",
    "print(torch.sqrt(cost_lya_lr(Z)), cost_lya_lr_induced(Z))"
   ]
  },
  {
   "cell_type": "markdown",
   "id": "3337f193-038d-4c7d-b671-780b345cb602",
   "metadata": {},
   "source": [
    "# homemade riccati solver (using the lr diag lr lyap solver above)"
   ]
  },
  {
   "cell_type": "code",
   "execution_count": 438,
   "id": "1452f168-6067-4e81-93c6-22313fa1721e",
   "metadata": {},
   "outputs": [
    {
     "name": "stdout",
     "output_type": "stream",
     "text": [
      "0.04107022285461426\n",
      "tensor(0.0009)\n"
     ]
    }
   ],
   "source": [
    "\n",
    "torch.manual_seed(95054)\n",
    "st = time.time()\n",
    "Z = ricc.diag_riccati_lr_greedy_nm(A, C, rank=4)\n",
    "print(time.time()-st)\n",
    "\n",
    "def costQR(Y):\n",
    "    if isinstance(Y, np.ndarray):\n",
    "        Y = torch.Tensor(Y)\n",
    "    YtY = Y.T @ Y\n",
    "    AY = A * Y\n",
    "    s = C.size()[-1]\n",
    "    k = Y.size()[-1]\n",
    "    L = torch.cat([C, AY, Y], -1)\n",
    "    Lq, Lr = torch.linalg.qr(L, 'reduced')    \n",
    "    Lc, LAy, Ly = torch.split(Lr, [s, k, k], dim=-1)\n",
    "    Mat1 = -Lc @ Lc.T + ricc._symm2(LAy @ Ly.T) + Ly @ YtY @ Ly.T\n",
    "    return Lq, Lr, Mat1\n",
    "\n",
    "def cost_ricc(Y):\n",
    "    _, _, Mat1 = costQR(Y)\n",
    "    return (Mat1 ** 2).sum() / 4\n",
    "\n",
    "print(torch.sqrt(cost_ricc(Z)))"
   ]
  },
  {
   "cell_type": "markdown",
   "id": "628aa72d-02ca-48c3-ae4d-876651d2b3e0",
   "metadata": {},
   "source": [
    "# pymanopt initialized by homemade diag lr nm"
   ]
  },
  {
   "cell_type": "code",
   "execution_count": 435,
   "id": "934ab291-83dd-41b2-9be4-8d012cf191ec",
   "metadata": {},
   "outputs": [
    {
     "name": "stdout",
     "output_type": "stream",
     "text": [
      "0.15292978286743164\n",
      "1.7684852174502899e-07\n"
     ]
    }
   ],
   "source": [
    "n=576\n",
    "k=4\n",
    "\n",
    "manifold = pymanopt.manifolds.PSDFixedRank(n, k)\n",
    "\n",
    "def costQR(Y):\n",
    "    if isinstance(Y, np.ndarray):\n",
    "        Y = torch.Tensor(Y)\n",
    "    YtY = Y.T @ Y\n",
    "    AY = A * Y\n",
    "    s = C.size()[-1]\n",
    "    k = Y.size()[-1]\n",
    "    L = torch.cat([C, AY, Y], -1)\n",
    "    Lq, Lr = torch.linalg.qr(L, 'reduced')    \n",
    "    Lc, LAy, Ly = torch.split(Lr, [s, k, k], dim=-1)\n",
    "    Mat1 = -Lc @ Lc.T + ricc._symm2(LAy @ Ly.T) + Ly @ YtY @ Ly.T\n",
    "    return Lq, Lr, Mat1\n",
    "\n",
    "\n",
    "@pymanopt.function.pytorch(manifold)\n",
    "def cost(Y):\n",
    "    _, _, Mat1 = costQR(Y)\n",
    "    return (Mat1 ** 2).sum() / 4\n",
    "\n",
    "problem = pymanopt.Problem(manifold, cost)\n",
    "\n",
    "st = time.time()\n",
    "truster = pymanopt.optimizers.trust_regions.TrustRegions(max_iterations=2, verbosity=0, log_verbosity=0)\n",
    "opt_result = truster.run(problem, initial_point=Z.numpy(), maxinner=5)\n",
    "print(time.time()-st)\n",
    "print(opt_result.cost)\n",
    "\n",
    "    "
   ]
  },
  {
   "cell_type": "code",
   "execution_count": 436,
   "id": "4248e2a4-bce5-4458-a720-c2de0dfcfe4d",
   "metadata": {},
   "outputs": [
    {
     "name": "stdout",
     "output_type": "stream",
     "text": [
      "0.2769660949707031\n",
      "1.7739525e-07\n"
     ]
    }
   ],
   "source": [
    "\n",
    "\n",
    "st = time.time()\n",
    "Z = ricc.riccati_diag_solve(A, C, k, greedy_iter=6, refine_inner_iter=5, refine_outer_iter=2)\n",
    "print(time.time()-st)\n",
    "\n",
    "print(cost(Z.numpy()))"
   ]
  },
  {
   "cell_type": "markdown",
   "id": "99a98d63-fb85-4bc4-8d14-25dc6a3a440e",
   "metadata": {},
   "source": [
    "## thinking about p^th power updates now... don't know how to incorporate them yet"
   ]
  },
  {
   "cell_type": "raw",
   "id": "6682c336-a8bb-4651-86d1-778b4da6ebad",
   "metadata": {},
   "source": [
    "(A + Z ZT)^p - A^p = A^(p-1) Z ZT + A^(p-2)Z Z^T A + ...\n",
    "Let W = Z^T Z\n",
    "=[L:= A^(p-1)Z A^(p-2)Z ... Z] [ 0 ... 0 0 I        ] [L^T]\n",
    "                               [ 0 ... 0 I W        ]\n",
    "                               [ 0 ... I W W^2+ZtAZ ]\n",
    "                               [ ....               ]\n",
    "                               \n",
    "                               ^not quite right\n",
    "\n",
    "A^2 Z ZT + A Z ZT A + Z ZT A^2\n",
    "A Z ZT Z ZT + Z ZT A Z ZT + Z ZT Z ZT A\n",
    "+Z (ZT Z)^2 ZT\n",
    "[A^2 Z  ,  AZ,   Z ] [0   0      I      ] [L^T]\n",
    "                     [0   I      W      ] \n",
    "                     [I   W   W^2 + ZtAZ]"
   ]
  },
  {
   "cell_type": "markdown",
   "id": "5bd72647-df05-4517-9934-c0bb9f5fa5bf",
   "metadata": {},
   "source": [
    "## We CAN do 3rd power updates using Riemannian opt...!\n",
    "### Can we find a fast initialization?"
   ]
  },
  {
   "cell_type": "code",
   "execution_count": 423,
   "id": "c426cd36-a97a-406c-bb35-ced29a06b626",
   "metadata": {},
   "outputs": [
    {
     "name": "stdout",
     "output_type": "stream",
     "text": [
      "Optimizing...\n",
      "                                            f: +2.494679e-01   |grad|: 2.884885e-02\n",
      "REJ TR-   k:     1     num_inner:     0     f: +2.494679e-01   |grad|: 2.884885e-02   negative curvature\n",
      "acc TR+   k:     2     num_inner:     0     f: +1.866245e-01   |grad|: 3.601100e-01   negative curvature\n",
      "REJ TR-   k:     3     num_inner:     0     f: +1.866245e-01   |grad|: 3.601100e-01   negative curvature\n",
      "acc TR+   k:     4     num_inner:     0     f: +1.156604e-01   |grad|: 4.262661e-01   negative curvature\n",
      "REJ TR-   k:     5     num_inner:     0     f: +1.156604e-01   |grad|: 4.262661e-01   exceeded trust region\n",
      "acc TR+   k:     6     num_inner:     0     f: +8.237619e-02   |grad|: 3.676097e-01   exceeded trust region\n",
      "acc TR+   k:     7     num_inner:     0     f: +3.561064e-02   |grad|: 4.214794e-01   exceeded trust region\n",
      "acc       k:     8     num_inner:     2     f: +7.521608e-03   |grad|: 4.488820e-01   reached target residual-kappa (linear)\n",
      "acc       k:     9     num_inner:     1     f: +1.085366e-03   |grad|: 6.407094e-02   reached target residual-kappa (linear)\n",
      "acc       k:    10     num_inner:     2     f: +8.419382e-04   |grad|: 3.599056e-03   reached target residual-theta (superlinear)\n",
      "acc       k:    11     num_inner:     6     f: +8.402583e-04   |grad|: 2.418259e-05   reached target residual-theta (superlinear)\n",
      "acc       k:    12     num_inner:    11     f: +8.402583e-04   |grad|: 7.807686e-10   reached target residual-theta (superlinear)\n",
      "Terminated - min grad norm reached after 12 iterations, 0.39 seconds.\n",
      "\n",
      "0.39483189582824707\n",
      "0.0008402582689716669\n"
     ]
    }
   ],
   "source": [
    "n=576\n",
    "k=1\n",
    "# it doesn't work to initialize any old random place\n",
    "\n",
    "manifold = pymanopt.manifolds.PSDFixedRank(n, k)\n",
    "\n",
    "def costQR(Y):\n",
    "    if isinstance(Y, np.ndarray):\n",
    "        Y = torch.Tensor(Y)\n",
    "    YtY = Y.T @ Y\n",
    "    YtY2 = YtY @ YtY\n",
    "    AY = A * Y\n",
    "    YtAY = Y.T @ AY\n",
    "    A2Y = A * AY\n",
    "    s = C.size()[-1]\n",
    "    k = Y.size()[-1]\n",
    "    L = torch.cat([C, A2Y, AY, Y], -1)\n",
    "    Lq, Lr = torch.linalg.qr(L, 'reduced')\n",
    "    Lc, LA2y, LAy, Ly = torch.split(Lr, [s, k, k, k], dim=-1)\n",
    "    Mat1 = -Lc @ Lc.T + ricc._symm2((LA2y + LAy @ YtY + Ly @ (YtY2 + YtAY) / 2) @ Ly.T)\n",
    "    return Lq, Lr, Mat1\n",
    "\n",
    "@pymanopt.function.pytorch(manifold)\n",
    "def cost(Y):\n",
    "    _, _, Mat1 = costQR(Y)\n",
    "    return (Mat1 ** 2).sum() / 4\n",
    "\n",
    "problem = pymanopt.Problem(manifold, cost)\n",
    "st = time.time()\n",
    "truster = pymanopt.optimizers.trust_regions.TrustRegions(max_iterations=25, verbosity=2, log_verbosity=0)\n",
    "opt_result = truster.run(problem, initial_point=C.numpy()/25)\n",
    "print(time.time()-st)\n",
    "print(opt_result.cost)\n",
    "\n",
    "    "
   ]
  },
  {
   "cell_type": "code",
   "execution_count": 429,
   "id": "a38ca5ba-1fd9-441a-838e-dc7467d1b813",
   "metadata": {},
   "outputs": [
    {
     "name": "stdout",
     "output_type": "stream",
     "text": [
      "0.0008402582689716669\n",
      "tensor(0.0047, dtype=torch.float64)\n"
     ]
    }
   ],
   "source": [
    "Zh = opt_result.point\n",
    "print(cost(Zh))\n",
    "print(\n",
    "    ((\n",
    "        (A.double() ** 3)[:,0].diag() + C @ C.T - mf.mat_pow(A[:,0].double().diag() + Zh @ Zh.T, 3)\n",
    "     ) ** 2).sum() / 4\n",
    ")"
   ]
  },
  {
   "cell_type": "code",
   "execution_count": 380,
   "id": "1928c05f-536e-4fcd-accb-0abd4f7cc940",
   "metadata": {},
   "outputs": [
    {
     "name": "stdout",
     "output_type": "stream",
     "text": [
      "Optimizing...\n",
      "                                            f: +1.810032e+05   |grad|: 6.928281e+07\n",
      "REJ TR-   k:     1     num_inner:     7     f: +1.810032e+05   |grad|: 6.928281e+07   negative curvature\n",
      "REJ TR-   k:     2     num_inner:     7     f: +1.810032e+05   |grad|: 6.928281e+07   negative curvature\n",
      "REJ TR-   k:     3     num_inner:     7     f: +1.810032e+05   |grad|: 6.928281e+07   negative curvature\n",
      "acc TR-   k:     4     num_inner:     7     f: +1.576554e+05   |grad|: 9.168443e+07   negative curvature\n",
      "acc       k:     5     num_inner:     5     f: +1.673829e+04   |grad|: 8.886524e+06   reached target residual-kappa (linear)\n",
      "acc TR+   k:     6     num_inner:     8     f: +5.577039e+03   |grad|: 3.579941e+06   exceeded trust region\n",
      "acc       k:     7     num_inner:    25     f: +7.867806e+02   |grad|: 4.348481e+05   reached target residual-kappa (linear)\n",
      "acc TR+   k:     8     num_inner:    81     f: +8.230778e+01   |grad|: 3.175838e+05   exceeded trust region\n",
      "acc       k:     9     num_inner:    66     f: +2.951770e+01   |grad|: 3.410080e+04   reached target residual-kappa (linear)\n",
      "acc       k:    10     num_inner:   150     f: +5.119391e+00   |grad|: 4.312499e+03   reached target residual-kappa (linear)\n",
      "acc       k:    11     num_inner:   408     f: +6.897245e-01   |grad|: 6.390068e+02   reached target residual-kappa (linear)\n",
      "acc       k:    12     num_inner:   575     f: +1.721466e-01   |grad|: 8.679262e+02   maximum inner iterations\n",
      "acc       k:    13     num_inner:   528     f: +1.222485e-01   |grad|: 1.012020e+02   reached target residual-kappa (linear)\n",
      "acc       k:    14     num_inner:   575     f: +1.125222e-01   |grad|: 1.408799e+02   maximum inner iterations\n",
      "acc       k:    15     num_inner:   575     f: +1.089064e-01   |grad|: 8.186277e+01   maximum inner iterations\n",
      "acc       k:    16     num_inner:   575     f: +1.071535e-01   |grad|: 3.423224e+02   maximum inner iterations\n",
      "acc       k:    17     num_inner:    42     f: +1.070661e-01   |grad|: 3.405510e+01   reached target residual-kappa (linear)\n",
      "acc       k:    18     num_inner:   575     f: +1.059923e-01   |grad|: 2.194509e+02   maximum inner iterations\n",
      "acc       k:    19     num_inner:    70     f: +1.058830e-01   |grad|: 1.666420e+01   reached target residual-kappa (linear)\n",
      "acc       k:    20     num_inner:   575     f: +1.054214e-01   |grad|: 1.907487e+02   maximum inner iterations\n",
      "acc       k:    21     num_inner:    80     f: +1.053756e-01   |grad|: 1.907261e+01   reached target residual-kappa (linear)\n",
      "acc       k:    22     num_inner:   575     f: +1.051238e-01   |grad|: 1.044162e+02   maximum inner iterations\n",
      "acc       k:    23     num_inner:   120     f: +1.050829e-01   |grad|: 8.429160e+00   reached target residual-kappa (linear)\n",
      "acc       k:    24     num_inner:   575     f: +1.049323e-01   |grad|: 5.929230e+01   maximum inner iterations\n",
      "acc       k:    25     num_inner:   401     f: +1.048602e-01   |grad|: 5.307869e+00   reached target residual-kappa (linear)\n",
      "Terminated - max iterations reached after 29.03 seconds.\n",
      "\n",
      "29.031243085861206\n",
      "0.10486015037234335\n"
     ]
    }
   ],
   "source": [
    "n=576\n",
    "k=1\n",
    "# it doesn't work to initialize any old random place\n",
    "\n",
    "manifold = pymanopt.manifolds.PSDFixedRank(n, k)\n",
    "\n",
    "def costQR(Y):\n",
    "    if isinstance(Y, np.ndarray):\n",
    "        Y = torch.Tensor(Y)\n",
    "    YtY = Y.T @ Y\n",
    "    YtY2 = YtY @ YtY\n",
    "    AY = A @ Y\n",
    "    YtAY = Y.T @ AY\n",
    "    A2Y = A @ AY\n",
    "    s = C.size()[-1]\n",
    "    k = Y.size()[-1]\n",
    "    L = torch.cat([C, A2Y, AY, Y], -1)\n",
    "    Lq, Lr = torch.linalg.qr(L, 'reduced')\n",
    "    Lc, LA2y, LAy, Ly = torch.split(Lr, [s, k, k, k], dim=-1)\n",
    "    Mat1 = -Lc @ Lc.T + ricc._symm2((LA2y + LAy @ YtY + Ly @ (YtY2 + YtAY) / 2) @ Ly.T)\n",
    "    return Lq, Lr, Mat1\n",
    "\n",
    "@pymanopt.function.pytorch(manifold)\n",
    "def cost(Y):\n",
    "    _, _, Mat1 = costQR(Y)\n",
    "    return (Mat1 ** 2).sum() / 4\n",
    "\n",
    "problem = pymanopt.Problem(manifold, cost)\n",
    "st = time.time()\n",
    "truster = pymanopt.optimizers.trust_regions.TrustRegions(max_iterations=25, verbosity=2, log_verbosity=0)\n",
    "opt_result = truster.run(problem, initial_point=C.numpy()/25)\n",
    "print(time.time()-st)\n",
    "print(opt_result.cost)\n",
    "\n",
    "    "
   ]
  },
  {
   "cell_type": "code",
   "execution_count": 384,
   "id": "65802081-d8f6-4a8e-a65a-527797a94613",
   "metadata": {},
   "outputs": [
    {
     "name": "stdout",
     "output_type": "stream",
     "text": [
      "0.10486015037234335\n",
      "tensor(0.1049, dtype=torch.float64)\n"
     ]
    }
   ],
   "source": [
    "Zh = opt_result.point\n",
    "print(cost(Zh))\n",
    "print( (((A.double().as_mat() @ A) @ A + C @ C.T - mf.mat_pow(A.double().as_mat() + Zh @ Zh.T, 3)) ** 2).sum() / 4 )"
   ]
  },
  {
   "cell_type": "markdown",
   "id": "ed9835ee-2c6d-4454-8cbd-e60fbbb56988",
   "metadata": {},
   "source": [
    "# pymanopt by itself"
   ]
  },
  {
   "cell_type": "code",
   "execution_count": 290,
   "id": "c9755608-b6f6-403d-a8e6-fbdeb69c3ab7",
   "metadata": {},
   "outputs": [
    {
     "name": "stdout",
     "output_type": "stream",
     "text": [
      "5.5256969928741455\n",
      "0.07459344263191196\n"
     ]
    }
   ],
   "source": [
    "n=576\n",
    "k=1\n",
    "# it doesn't work to initialize any old random place\n",
    "\n",
    "manifold = pymanopt.manifolds.PSDFixedRank(n, k)\n",
    "\n",
    "def costQR(Y):\n",
    "    if isinstance(Y, np.ndarray):\n",
    "        Y = torch.Tensor(Y)\n",
    "    YtY = Y.T @ Y\n",
    "    AY = A @ Y\n",
    "    s = C.size()[-1]\n",
    "    k = Y.size()[-1]\n",
    "    L = torch.cat([C, AY, Y], -1)\n",
    "    Lq, Lr = torch.linalg.qr(L, 'reduced')    \n",
    "    Lc, LAy, Ly = torch.split(Lr, [s, k, k], dim=-1)\n",
    "    #Mat1 = -Lc @ Lc.T + ricc._symm2(LAy @ Ly.T) + Ly @ YtY @ Ly.T\n",
    "    Mat1 = -Lc @ Lc.T + ricc._symm2((LAy + Ly @ YtY / 2) @ Ly.T)\n",
    "    return Lq, Lr, Mat1\n",
    "\n",
    "@pymanopt.function.pytorch(manifold)\n",
    "def cost(Y):\n",
    "    _, _, Mat1 = costQR(Y)\n",
    "    return (Mat1 ** 2).sum() / 4\n",
    "\n",
    "problem = pymanopt.Problem(manifold, cost)\n",
    "st = time.time()\n",
    "truster = pymanopt.optimizers.trust_regions.TrustRegions(max_iterations=10, verbosity=0, log_verbosity=0)\n",
    "opt_result = truster.run(problem, initial_point=C.numpy())\n",
    "print(time.time()-st)\n",
    "print(opt_result.cost)\n",
    "\n",
    "    "
   ]
  },
  {
   "cell_type": "code",
   "execution_count": 292,
   "id": "6adf89ee-d264-4164-bc7d-ca922cf88957",
   "metadata": {},
   "outputs": [
    {
     "name": "stdout",
     "output_type": "stream",
     "text": [
      "1.9991402626037598\n",
      "0.022845213515842993\n"
     ]
    }
   ],
   "source": [
    "def descent_dir(Y):\n",
    "    if isinstance(Y, np.ndarray):\n",
    "        Y = torch.Tensor(Y)\n",
    "    s = C.size()[-1]\n",
    "    k = Y.size()[-1]\n",
    "    Lq, Lr, Mat1 = costQR(Y)\n",
    "    K = A @ Lq + Y @ (Y.T @ Lq)\n",
    "    Pq, Pr = torch.linalg.qr(torch.cat([Lq, K], -1), 'reduced')\n",
    "    Pl, Pk = torch.split(Pr, [s+2*k, s+2*k], dim=-1)\n",
    "    Q = ricc._symm2(Pl @ Mat1 @ Pk.T)\n",
    "    Sq, Uq = torch.linalg.eigh(Q)\n",
    "    Pq_big = Pq @ Uq\n",
    "    return Sq[0], Pq_big[:, :1]\n",
    "\n",
    "Zh = opt_result.point\n",
    "dS, dV = descent_dir(Zh)\n",
    "\n",
    "manifold = pymanopt.manifolds.PSDFixedRank(n, k)\n",
    "problem = pymanopt.Problem(manifold, cost)\n",
    "\n",
    "st = time.time()\n",
    "truster = pymanopt.optimizers.trust_regions.TrustRegions(max_iterations=10, verbosity=0, log_verbosity=0)\n",
    "opt_result2 = truster.run(problem, initial_point=np.concatenate([Zh, dV/96], -1))\n",
    "print(time.time()-st)\n",
    "print(opt_result2.cost)\n"
   ]
  },
  {
   "cell_type": "markdown",
   "id": "691b9df1-0200-45cd-a7b4-ede8eb2fd20b",
   "metadata": {},
   "source": [
    "# full rank increase thing"
   ]
  },
  {
   "cell_type": "code",
   "execution_count": 80,
   "id": "71a67623-f301-4c31-a1a3-e103814a494e",
   "metadata": {},
   "outputs": [
    {
     "name": "stdout",
     "output_type": "stream",
     "text": [
      "1 0.21803641319274902\n",
      "2 1.1777136325836182\n",
      "3 7.573061943054199\n",
      "4 15.210425853729248\n",
      "5 28.60530376434326\n",
      "0.0016186097506047895\n"
     ]
    }
   ],
   "source": [
    "import sys\n",
    "sys.path.append('../..')\n",
    "import time\n",
    "\n",
    "import torch\n",
    "import numpy as np\n",
    "import pymanopt\n",
    "\n",
    "import kradagrad as kg\n",
    "import kradagrad.riccati as ricc\n",
    "\n",
    "\n",
    "torch.manual_seed(95054)\n",
    "\n",
    "a = torch.randn(24, 24).tril()\n",
    "a = a @ a.T\n",
    "b = torch.randn(24, 24).tril()\n",
    "b = b @ b.T\n",
    "\n",
    "C = torch.randn(576, 1)\n",
    "C = C / torch.sqrt((C ** 2).sum())\n",
    "\n",
    "A = ricc.Kron([a, b])\n",
    "k = 5\n",
    "n = A._mat_size\n",
    "\n",
    "\n",
    "\n",
    "\n",
    "\n",
    "@torch.no_grad()\n",
    "def descent_dir(Y):\n",
    "    if isinstance(Y, np.ndarray):\n",
    "        Y = torch.Tensor(Y)\n",
    "    s = C.size()[-1]\n",
    "    k = Y.size()[-1]\n",
    "    Lq, Lr, Mat1 = costQR(Y)\n",
    "    K = A @ Lq + Y @ (Y.T @ Lq)\n",
    "    Pq, Pr = torch.linalg.qr(torch.cat([Lq, K], -1), 'reduced')\n",
    "    Pl, Pk = torch.split(Pr, [s+2*k, s+2*k], dim=-1)\n",
    "    Q = ricc._symm2(Pl @ Mat1 @ Pk.T)\n",
    "    Sq, Uq = torch.linalg.eigh(Q)\n",
    "    Pq_big = Pq @ Uq\n",
    "    return Sq[0], Pq_big[:, :1]\n",
    "\n",
    "@torch.no_grad()\n",
    "def cost(Y):\n",
    "    _, _, Mat1 = costQR(Y)\n",
    "    return (Mat1 ** 2).sum() / 4\n",
    "\n",
    "\n",
    "max_line_iter = 50\n",
    "cost_old = cost(Yo)\n",
    "Yn = C.cpu().numpy()\n",
    "Yo = np.zeros_like(Yn)\n",
    "s = C.shape[-1]\n",
    "step_size = 1\n",
    "armijo = False\n",
    "it_ = 0\n",
    "while (not armijo) and it_ < max_line_iter:\n",
    "    it_ += 1\n",
    "    step_size /= 2\n",
    "    Z = Yo + step_size * Yn\n",
    "    cost_new = cost(Z)\n",
    "    armijo = cost_old - cost_new > 0\n",
    "    if armijo and (it_ == 1):  # maybe understep, reset and try again\n",
    "        print('ay')\n",
    "        armijo = 0\n",
    "        it_ = 0\n",
    "        step_size *= 4  # will get divided by 2 before next application\n",
    "\n",
    "pre_rank_increase = False\n",
    "if pre_rank_increase:\n",
    "    for k_ in range(k-1):\n",
    "        print(k_)\n",
    "        manifold = pymanopt.manifolds.PSDFixedRank(n, k_)\n",
    "        @pymanopt.function.pytorch(manifold)\n",
    "        def cost(Y):\n",
    "            #Mat1 = costMat(Y)\n",
    "            _, _, Mat1 = costQR(Y)\n",
    "            return (Mat1 ** 2).sum() / 4\n",
    "        cost_old = cost(Z)\n",
    "        eig, dY = descent_dir(Z)\n",
    "        Yo = np.concatenate([Z, np.zeros([n, 1])], -1)\n",
    "        Yn = np.concatenate([np.zeros_like(Z), dY], -1)\n",
    "        step_size = np.abs(eig.cpu().numpy())\n",
    "        armijo = False\n",
    "        it_ = 0\n",
    "        while (not armijo) and it_ < max_line_iter:\n",
    "            it_ += 1\n",
    "            step_size /= 2\n",
    "            Z = Yo + step_size * Yn\n",
    "            cost_new = cost(Z)\n",
    "            armijo = cost_old - cost_new > 0\n",
    "            if armijo and (it_ == 1):  # maybe understep, reset and try again\n",
    "                armijo = 0\n",
    "                it_ = 0\n",
    "                step_size *= 4  # will get divided by 2 before next application\n",
    "    s = Z.shape[-1]\n",
    "    print(s, cost_new)\n",
    "\n",
    "truster = pymanopt.optimizers.trust_regions.TrustRegions(max_iterations=10, verbosity=0, log_verbosity=0)\n",
    "for k_ in range(s, k+1):\n",
    "    manifold = pymanopt.manifolds.PSDFixedRank(n, k_)\n",
    "    @pymanopt.function.pytorch(manifold)\n",
    "    def cost(Y):\n",
    "        #Mat1 = costMat(Y)\n",
    "        _, _, Mat1 = costQR(Y)\n",
    "        return (Mat1 ** 2).sum() / 4\n",
    "\n",
    "    problem = pymanopt.Problem(manifold, cost)\n",
    "    st = time.time()\n",
    "    opt_result = truster.run(problem, initial_point=Z, maxinner=1000)\n",
    "    print(k_, time.time()-st)\n",
    "    \n",
    "    cost_old = opt_result.cost\n",
    "    if not pre_rank_increase:\n",
    "        if k_ < k:\n",
    "            eig, dY = descent_dir(opt_result.point)\n",
    "            Yo = np.concatenate([opt_result.point, np.zeros([n, 1])], -1)\n",
    "            Yn = np.concatenate([np.zeros_like(opt_result.point), dY], -1)\n",
    "            step_size = np.abs(eig.cpu().numpy())\n",
    "            armijo = False\n",
    "            it_ = 0\n",
    "            while (not armijo) and it_ < max_line_iter:\n",
    "                it_ += 1\n",
    "                step_size /= 2\n",
    "                Z = Yo + step_size * Yn\n",
    "                cost_new = cost(Z)\n",
    "                armijo = cost_old - cost_new > 0\n",
    "                if armijo and (it_ == 1):  # maybe understep, reset and try again\n",
    "                    armijo = 0\n",
    "                    it_ = 0\n",
    "                    step_size *= 4  # will get divided by 2 before next application\n",
    "print(cost_old)"
   ]
  },
  {
   "cell_type": "code",
   "execution_count": 81,
   "id": "666b4403-46c8-43f6-9611-70007acb6b38",
   "metadata": {},
   "outputs": [
    {
     "name": "stdout",
     "output_type": "stream",
     "text": [
      "0.0016186097506047895\n",
      "tensor(0.0016, dtype=torch.float64)\n"
     ]
    },
    {
     "data": {
      "image/png": "[encoded data removed]",
      "text/plain": [
       "<Figure size 640x480 with 1 Axes>"
      ]
     },
     "metadata": {},
     "output_type": "display_data"
    }
   ],
   "source": [
    "mf = kg.positive_matrix_functions\n",
    "Zh = opt_result.point\n",
    "print(opt_result.cost)\n",
    "\n",
    "L, V = torch.linalg.eigh(mf.matrix_power_svd(A.double().as_mat() @ A.double() + C @ C.T, 1/2, double=True) - (A.double().as_mat() + Zh @ Zh.T))\n",
    "L1, V1 = torch.linalg.eigh(mf.matrix_power_svd(A.double().as_mat() @ A.double() + C @ C.T, 1/2, double=True) - A.double().as_mat())\n",
    "\n",
    "import matplotlib.pyplot as plt\n",
    "plt.plot(L)\n",
    "plt.plot(L1, '--')\n",
    "#plt.plot(L2, '-.')\n",
    "\n",
    "print( ((A.double().as_mat() @ A + C @ C.T - mf.mat_pow(A.double().as_mat() + Zh @ Zh.T, 2)) ** 2).sum() / 4 )\n",
    "\n",
    "plt.show()"
   ]
  },
  {
   "cell_type": "code",
   "execution_count": 61,
   "id": "4f528ca2-04a4-4141-8515-902c1a040886",
   "metadata": {},
   "outputs": [
    {
     "data": {
      "text/plain": [
       "tensor(0.0006, dtype=torch.float64)"
      ]
     },
     "execution_count": 61,
     "metadata": {},
     "output_type": "execute_result"
    }
   ],
   "source": [
    "Zht = torch.Tensor(Zh).double()\n",
    "Ad = A.double()\n",
    "mf.matrices_norm(Ad.as_mat() @ Ad + (Ad @ Zht) @ Zht.T + Zht @ (Zht.T @ Ad) + Zht @ (Zht.T @ Zht) @ Zht.T - Ad.as_mat() @ Ad - C @ C.T , 'fro')**2 / 4"
   ]
  },
  {
   "cell_type": "code",
   "execution_count": 93,
   "id": "b33315ed-3a03-4049-914f-24c69dc8e22a",
   "metadata": {},
   "outputs": [
    {
     "data": {
      "image/png": "[encoded data removed]",
      "text/plain": [
       "<Figure size 640x480 with 1 Axes>"
      ]
     },
     "metadata": {},
     "output_type": "display_data"
    }
   ],
   "source": [
    "c = C.reshape([24,24]).double()\n",
    "#Lc, Vc = torch.linalg.eigh(torch.kron(torch.eye(24, dtype=torch.double), c.T @ c) - C @ C.T/24)\n",
    "#Lc, Vc = torch.linalg.eigh(torch.kron(c@c.T, torch.eye(24, dtype=torch.double)) - C @ C.T/24)\n",
    "Lc2, Vc2 = torch.linalg.eigh(torch.kron(mf.matrix_power_svd(c@c.T, 1/2), mf.matrix_power_svd(c.T @ c, 1/2)) - C @ C.T/24)\n",
    "Lc, Vc = torch.linalg.eigh(torch.kron(mf.matrix_power_svd(c@c.T, 1/2), mf.matrix_power_svd(c.T @ c, 1/2)))\n",
    "\n",
    "plt.plot(Lc, '*')\n",
    "plt.plot(Lc2, '.')\n",
    "plt.show()"
   ]
  },
  {
   "cell_type": "markdown",
   "id": "37be90d1-743f-454c-a05e-f60c505ce76c",
   "metadata": {},
   "source": [
    "# Geoopt"
   ]
  },
  {
   "cell_type": "code",
   "execution_count": 51,
   "id": "ac2b6479-b112-4a36-becc-b1126f03238f",
   "metadata": {},
   "outputs": [],
   "source": [
    "import geoopt"
   ]
  },
  {
   "cell_type": "code",
   "execution_count": 234,
   "id": "5db32006-b952-47fc-9b64-266ba52984c9",
   "metadata": {},
   "outputs": [],
   "source": [
    "\n",
    "\n",
    "## doesn't work\n",
    "A = ricc.Kron([a.double(), b.double()])\n",
    "#mm = geoopt.manifolds.SymmetricPositiveDefinite()\n",
    "lr = 1e-1\n",
    "#zz = torch.randn(n,n).tril()\n",
    "#ZZ = geoopt.ManifoldTensor(zz@zz.T /n + torch.eye(n)*1e-6, manifold=mm, requires_grad=True)\n",
    "#ZZ = (zz@zz.T /n + torch.eye(n)*1e-6).requires_grad_()\n",
    "#def cost_noob(ZZ):\n",
    "#    return ((ricc._symm2(A @ ZZ) + ZZ @ ZZ - C @ C.T) ** 2).sum() / n\n",
    "\n",
    "#params = [ZZ]\n",
    "\n",
    "#with torch.no_grad():\n",
    "#    print(cost_noob(ZZ))\n",
    "\n",
    "Y = torch.zeros_like(C)\n",
    "Y += C\n",
    "Y0 = torch.zeros_like(Y)\n",
    "Y0 += Y\n",
    "Y = Y.requires_grad_()\n",
    "params = [Y]\n",
    "def cost(Y):\n",
    "    YtY = Y.T @ Y\n",
    "    L = torch.cat([C, A @ Y, Y], -1)\n",
    "    _, Lr = torch.linalg.qr(L, 'reduced')\n",
    "    s = C.size()[-1]\n",
    "    Lc = Lr[:, :s]\n",
    "    L2 = Lr[:, s:s+k]\n",
    "    Ly = Lr[:, s+k:]\n",
    "    return ((-Lc @ Lc.T + ricc._symm2(L2 @ Ly.T) + Ly @ YtY @ Ly.T) ** 2).sum() / 4\n",
    "\n",
    "opt = torch.optim.Adam(params, lr)\n",
    "for i in range(20):\n",
    "    err = cost(params[0])\n",
    "    opt.zero_grad()\n",
    "    err.backward(retain_graph=False)\n",
    "    opt.step()\n",
    "\n",
    "#mm = ricc.FixedRankPositiveDefinite()"
   ]
  },
  {
   "cell_type": "code",
   "execution_count": 243,
   "id": "d57aecdc-8218-4178-be60-9d14a33bf799",
   "metadata": {},
   "outputs": [
    {
     "name": "stdout",
     "output_type": "stream",
     "text": [
      "Quotient manifold of 576x576 psd matrices of rank 1 manifold\n",
      "\b 0\n",
      "\b 1\n",
      "\b 2\n",
      "6.578739643096924\n"
     ]
    }
   ],
   "source": [
    "from functools import partial\n",
    "import geoopt\n",
    "A = ricc.Kron([a.double(), b.double()]).cuda()\n",
    "n = A._mat_size\n",
    "\n",
    "k = 1\n",
    "mm = ricc.PSDFixedRank(n, k)\n",
    "print(mm)\n",
    "lr = 1e1  # riemannian adam\n",
    "#lr = 1e0  # adam\n",
    "#lr = 1e-4\n",
    "\n",
    "Y = torch.zeros_like(C)\n",
    "Y += C\n",
    "Y = Y.cuda()\n",
    "Y0 = torch.zeros_like(Y).cuda()\n",
    "Y0 += Y\n",
    "Y = geoopt.ManifoldTensor(Y, manifold=mm, requires_grad=True)\n",
    "#Y = (Y/torch.sqrt((Y**2).sum(0))).requires_grad_()\n",
    "\n",
    "params = [Y]\n",
    "def cost(Y):\n",
    "    YtY = Y.T @ Y\n",
    "    L = torch.cat([C.cuda(), A @ Y, Y], -1)\n",
    "    _, Lr = torch.linalg.qr(L, 'reduced')\n",
    "    s = C.size()[-1]\n",
    "    Lc = Lr[:, :s]\n",
    "    L2 = Lr[:, s:s+k]\n",
    "    Ly = Lr[:, s+k:]\n",
    "    return ((-Lc @ Lc.T + ricc._symm2(L2 @ Ly.T) + Ly @ YtY @ Ly.T) ** 2).sum() / 4\n",
    "\n",
    "#opt = geoopt.optim.RiemannianLineSearch(params, )\n",
    "opt = geoopt.optim.RiemannianAdam(params, lr)\n",
    "#opt = torch.optim.Adam(params, lr)\n",
    "\n",
    "import time\n",
    "st = time.time()\n",
    "for i in range(2000):\n",
    "    if i<3:\n",
    "        print('\\b',i)\n",
    "    err = cost(params[0])\n",
    "    opt.zero_grad()\n",
    "    err.backward()\n",
    "    opt.step(partial(cost, params[0]))\n",
    "print(time.time()-st)"
   ]
  },
  {
   "cell_type": "code",
   "execution_count": 244,
   "id": "ae67d28c-0b2f-41fb-bf3b-d90ba210a7a9",
   "metadata": {},
   "outputs": [
    {
     "data": {
      "text/plain": [
       "tensor(19.7468, device='cuda:0', grad_fn=<SumBackward0>)"
      ]
     },
     "execution_count": 244,
     "metadata": {},
     "output_type": "execute_result"
    }
   ],
   "source": [
    "torch.abs(Y-Y0).sum()"
   ]
  },
  {
   "cell_type": "code",
   "execution_count": 245,
   "id": "b1c49a27-2ce1-497c-b124-b71ab6eb558d",
   "metadata": {},
   "outputs": [
    {
     "data": {
      "image/png": "[encoded data removed]",
      "text/plain": [
       "<Figure size 640x480 with 1 Axes>"
      ]
     },
     "metadata": {},
     "output_type": "display_data"
    }
   ],
   "source": [
    "import matplotlib.pyplot as plt\n",
    "\n",
    "Zh = params[0].detach().cpu()\n",
    "\n",
    "\n",
    "L, V = torch.linalg.eigh(mf.matrix_power_svd(A.as_mat().cpu() @ A.as_mat().cpu() + C @ C.T, 1/2, double=True) - (A.as_mat().cpu() + Zh @ Zh.T))\n",
    "L1, V1 = torch.linalg.eigh(mf.matrix_power_svd(A.as_mat().cpu() @ A.as_mat().cpu() + C @ C.T, 1/2, double=True) - A.as_mat().cpu())\n",
    "\n",
    "import matplotlib.pyplot as plt\n",
    "plt.plot(L)\n",
    "plt.plot(L1, '--')\n",
    "plt.show()"
   ]
  },
  {
   "cell_type": "markdown",
   "id": "33e30ebe-13a4-4978-8660-325be3433255",
   "metadata": {},
   "source": [
    "# homemade LRCF Newton"
   ]
  },
  {
   "cell_type": "code",
   "execution_count": 96,
   "id": "520a3ce0-608b-42eb-a8c2-33623e35e67a",
   "metadata": {},
   "outputs": [
    {
     "name": "stdout",
     "output_type": "stream",
     "text": [
      "{'large_ritz_num': 1, 'small_ritz_num': 1, 'tol': 1.0}\n",
      "[-1.02551628e+01 -1.78754080e-02 -3.11390073e-05]\n"
     ]
    }
   ],
   "source": [
    "import pymor\n",
    "import pymor.algorithms.lradi\n",
    "A = ricc.Kron_pymor([a, b])\n",
    "E = pymor.operators.constructions.IdentityOperator(A.source)\n",
    "B = A.source.from_numpy(C.T)\n",
    "so = {'large_ritz_num': 1,\n",
    "      'small_ritz_num': 1,\n",
    "      'tol': 1e0,\n",
    "}\n",
    "print(so)\n",
    "p = pymor.algorithms.lradi.wachspress_shifts_init(A, E, B, so)\n",
    "print(p)"
   ]
  },
  {
   "cell_type": "code",
   "execution_count": 116,
   "id": "0a6e0f18-09f8-48e2-b608-6dd6451eccc2",
   "metadata": {},
   "outputs": [
    {
     "name": "stderr",
     "output_type": "stream",
     "text": [
      "04:16:35 \u001b[1mgram_schmidt\u001b[0m: Orthonormalizing vector 2 again\n",
      "04:16:35 \u001b[1mgram_schmidt\u001b[0m: Orthonormalizing vector 3 again\n",
      "04:16:35 \u001b[1mgram_schmidt\u001b[0m: Orthonormalizing vector 4 again\n",
      "04:16:35 \u001b[1mgram_schmidt\u001b[0m: Orthonormalizing vector 5 again\n",
      "04:16:35 \u001b[1mgram_schmidt\u001b[0m: Orthonormalizing vector 2 again\n",
      "04:16:35 \u001b[1mgram_schmidt\u001b[0m: Orthonormalizing vector 3 again\n",
      "04:16:35 \u001b[1mgram_schmidt\u001b[0m: Orthonormalizing vector 4 again\n",
      "04:16:35 \u001b[1mgram_schmidt\u001b[0m: Orthonormalizing vector 5 again\n"
     ]
    },
    {
     "name": "stdout",
     "output_type": "stream",
     "text": [
      "0.037500858306884766\n"
     ]
    },
    {
     "data": {
      "text/plain": [
       "array(2.58322399e+27)"
      ]
     },
     "execution_count": 116,
     "metadata": {},
     "output_type": "execute_result"
    }
   ],
   "source": [
    "A = ricc.Kron([a, b])\n",
    "\n",
    "max_line_iter = 50\n",
    "cost_old = cost(Yo)\n",
    "Yn = C.cpu().numpy()\n",
    "Yo = np.zeros_like(Yn)\n",
    "s = C.shape[-1]\n",
    "step_size = 1\n",
    "armijo = False\n",
    "it_ = 0\n",
    "while (not armijo) and it_ < max_line_iter:\n",
    "    it_ += 1\n",
    "    step_size /= 2\n",
    "    Z = Yo + step_size * Yn\n",
    "    cost_new = cost(Z)\n",
    "    armijo = cost_old - cost_new > 0\n",
    "    if armijo and (it_ == 1):  # maybe understep, reset and try again\n",
    "        print('ay')\n",
    "        armijo = 0\n",
    "        it_ = 0\n",
    "        step_size *= 4  # will get divided by 2 before next application\n",
    "        \n",
    "\n",
    "st = time.time()\n",
    "Z = ricc.lrcf_nm(A.double(), C.double(), rank=k, Z0=torch.Tensor(Z).double())\n",
    "print(time.time()-st)\n",
    "\n",
    "cost(Z.numpy())"
   ]
  },
  {
   "cell_type": "code",
   "execution_count": 114,
   "id": "424cafac-67e4-43c4-9cf9-fb187c0587b1",
   "metadata": {},
   "outputs": [
    {
     "name": "stdout",
     "output_type": "stream",
     "text": [
      "tensor(592.9480, dtype=torch.float64) tensor(-493.4468, dtype=torch.float64)\n"
     ]
    },
    {
     "data": {
      "image/png": "[encoded data removed]",
      "text/plain": [
       "<Figure size 640x480 with 1 Axes>"
      ]
     },
     "metadata": {},
     "output_type": "display_data"
    }
   ],
   "source": [
    "import matplotlib.pyplot as plt\n",
    "\n",
    "Zh = Z\n",
    "\n",
    "print(Zh.max(), Zh.min())\n",
    "\n",
    "L, V = torch.linalg.eigh(mf.matrix_power_svd(A.double().as_mat() @ A.double().as_mat() + C @ C.T, 1/2, double=True) - (A.as_mat() + Zh @ Zh.T))\n",
    "#L, V = torch.linalg.eigh(mf.matrix_power_svd(A.as_mat() @ A.as_mat() + C @ C.T, 1/2, double=True) - A.as_mat())\n",
    "\n",
    "plt.plot(L)\n",
    "plt.show()"
   ]
  },
  {
   "cell_type": "markdown",
   "id": "a80e5d5a-d670-4853-9e3c-d7468c4d5815",
   "metadata": {},
   "source": [
    "## chebyshev fun, for rational krylov to approximate M^(1/p)"
   ]
  },
  {
   "cell_type": "code",
   "execution_count": 439,
   "id": "971e2b69-74ca-4377-ba39-a44e92bfee72",
   "metadata": {},
   "outputs": [],
   "source": [
    "x = np.arange(1, 101)/100\n",
    "x_fit = np.logspace(-4, 0, 100)\n",
    "fun = lambda x: np.sign(x) * (np.abs(x)) ** (1/3)\n",
    "cheb_poly = np.polynomial.chebyshev.Chebyshev.fit(x_fit, fun(x_fit), 10, domain=[x_fit.min(), x_fit.max()])\n",
    "#cheb_poly = np.polynomial.chebyshev.Chebyshev.interpolate(fun, 10, domain=[x_fit.min(), x_fit.max()])\n"
   ]
  },
  {
   "cell_type": "code",
   "execution_count": 441,
   "id": "a079bee4-5ee0-4c30-994d-069972df8f4e",
   "metadata": {},
   "outputs": [
    {
     "data": {
      "text/plain": [
       "array([-0.00521518+0.j        ,  0.06607112-0.1137467j ,\n",
       "        0.06607112+0.1137467j ,  0.32034326-0.20964723j,\n",
       "        0.32034326+0.20964723j,  0.64507391-0.21826561j,\n",
       "        0.64507391+0.21826561j,  0.91747604-0.12990738j,\n",
       "        0.91747604+0.12990738j,  1.03651672+0.j        ])"
      ]
     },
     "execution_count": 441,
     "metadata": {},
     "output_type": "execute_result"
    }
   ],
   "source": [
    "cheb_poly.roots()"
   ]
  },
  {
   "cell_type": "code",
   "execution_count": 172,
   "id": "480362f0-eb1b-4008-9caf-36ca6a8b34ed",
   "metadata": {},
   "outputs": [
    {
     "data": {
      "image/png": "[encoded data removed]",
      "text/plain": [
       "<Figure size 640x480 with 1 Axes>"
      ]
     },
     "metadata": {},
     "output_type": "display_data"
    },
    {
     "data": {
      "image/png": "[encoded data removed]",
      "text/plain": [
       "<Figure size 640x480 with 1 Axes>"
      ]
     },
     "metadata": {},
     "output_type": "display_data"
    },
    {
     "data": {
      "image/png": "[encoded data removed]",
      "text/plain": [
       "<Figure size 640x480 with 1 Axes>"
      ]
     },
     "metadata": {},
     "output_type": "display_data"
    }
   ],
   "source": [
    "\n",
    "plt.plot(x, fun(x))\n",
    "plt.plot(x, cheb_poly(x), '--')\n",
    "\n",
    "plt.figure()\n",
    "\n",
    "plt.plot(x, 1/fun(x))\n",
    "plt.plot(x, 1/cheb_poly(x), '--')\n",
    "\n",
    "plt.figure()\n",
    "\n",
    "plt.plot(x, fun(x)-cheb_poly(x))\n",
    "\n",
    "\n",
    "plt.show()"
   ]
  },
  {
   "cell_type": "code",
   "execution_count": null,
   "id": "dd361766-ef87-4cb6-bd11-218032de993f",
   "metadata": {},
   "outputs": [],
   "source": []
  }
 ],
 "metadata": {
  "kernelspec": {
   "display_name": "Python 3 (ipykernel)",
   "language": "python",
   "name": "python3"
  },
  "language_info": {
   "codemirror_mode": {
    "name": "ipython",
    "version": 3
   },
   "file_extension": ".py",
   "mimetype": "text/x-python",
   "name": "python",
   "nbconvert_exporter": "python",
   "pygments_lexer": "ipython3",
   "version": "3.10.8"
  }
 },
 "nbformat": 4,
 "nbformat_minor": 5
}
