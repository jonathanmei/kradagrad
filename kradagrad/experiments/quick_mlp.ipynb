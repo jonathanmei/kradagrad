{
 "cells": [
  {
   "cell_type": "code",
   "execution_count": 1,
   "id": "0ba6193e-12ff-4cca-a321-0dcb92e9e893",
   "metadata": {},
   "outputs": [],
   "source": [
    "%load_ext autoreload\n",
    "%autoreload 2"
   ]
  },
  {
   "cell_type": "code",
   "execution_count": 4,
   "id": "d6cd96a3-d8e4-4f6a-a486-dbde2ca75795",
   "metadata": {},
   "outputs": [
    {
     "name": "stdout",
     "output_type": "stream",
     "text": [
      "['/home/jmei/code/experiments/kradagrad/third_party', '/home/jmei/code/experiments/kradagrad', '/home/jmei/code/experiments/kradagrad/experiments', '/home/jmei/miniconda3/envs/rec/lib/python310.zip', '/home/jmei/miniconda3/envs/rec/lib/python3.10', '/home/jmei/miniconda3/envs/rec/lib/python3.10/lib-dynload', '', '/home/jmei/miniconda3/envs/rec/lib/python3.10/site-packages', '/home/jmei/miniconda3/envs/rec/lib/python3.10/site-packages/fbgemm_gpu-0.1.1-py3.10-linux-x86_64.egg']\n"
     ]
    }
   ],
   "source": [
    "import torch\n",
    "import os\n",
    "import sys\n",
    "\n",
    "parent = os.path.abspath(os.path.join(os.getcwd(), '..'))\n",
    "party_the_3rd = os.path.join(parent, 'third_party')\n",
    "\n",
    "for path_ in [parent, party_the_3rd]:\n",
    "    if path_ not in (cur_path:=sys.path):\n",
    "        sys.path = [path_] + cur_path\n",
    "print(sys.path)\n",
    "\n",
    "import kradagrad\n",
    "import shampoo\n"
   ]
  },
  {
   "cell_type": "code",
   "execution_count": null,
   "id": "dcfc244c-835e-4279-a72c-ec45aa26b5a4",
   "metadata": {},
   "outputs": [],
   "source": [
    "# problem hyperparams\n",
    "\n",
    "\n",
    "\n",
    "# common optimizer hyperparams\n",
    "lr = 1e-2\n",
    "\n",
    "\n",
    "opt_sh = shampoo.Shampoo(params, lr=lr)\n",
    "\n",
    "\n",
    "# epsilon is inverted for krad\n",
    "krad_hps = shampoo.ShampooHyperParams(matrix_eps=1e4)\n",
    "\n",
    "opt_kr = kradagrad.KradagradPP(params, lr=lr, hyperparams=krad_hps)"
   ]
  }
 ],
 "metadata": {
  "kernelspec": {
   "display_name": "Python 3 (ipykernel)",
   "language": "python",
   "name": "python3"
  },
  "language_info": {
   "codemirror_mode": {
    "name": "ipython",
    "version": 3
   },
   "file_extension": ".py",
   "mimetype": "text/x-python",
   "name": "python",
   "nbconvert_exporter": "python",
   "pygments_lexer": "ipython3",
   "version": "3.10.4"
  }
 },
 "nbformat": 4,
 "nbformat_minor": 5
}
