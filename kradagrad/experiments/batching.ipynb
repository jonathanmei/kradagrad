{
 "cells": [
  {
   "cell_type": "code",
   "execution_count": 1,
   "id": "d3eb04d3-829d-4e47-a6f9-04893b036e97",
   "metadata": {},
   "outputs": [],
   "source": [
    "import torch\n",
    "import torch.nn.functional as F"
   ]
  },
  {
   "cell_type": "code",
   "execution_count": 3,
   "id": "cb7f244b-da31-4716-bc10-efa3f51f648b",
   "metadata": {},
   "outputs": [],
   "source": [
    "torch.manual_seed(95054)\n",
    "\n",
    "A = torch.randn([3,4,5,7])\n",
    "B = torch.randn([3,4,5,7])"
   ]
  },
  {
   "cell_type": "code",
   "execution_count": 8,
   "id": "9a0e90fa-3593-4a1c-8330-4cf3a6b6800a",
   "metadata": {},
   "outputs": [
    {
     "data": {
      "text/plain": [
       "tensor([[0., 0., 0.],\n",
       "        [0., 0., 0.],\n",
       "        [0., 0., 0.]])"
      ]
     },
     "execution_count": 8,
     "metadata": {},
     "output_type": "execute_result"
    }
   ],
   "source": [
    "torch.tensordot(A, B, dims=[[1,2,3], [1,2,3]]) - torch.matmul(A.view([3, -1]), B.view([3, -1]).T)"
   ]
  },
  {
   "cell_type": "code",
   "execution_count": 19,
   "id": "f8fb3e14-ebbf-4cad-af06-9f63fcfec6f6",
   "metadata": {},
   "outputs": [
    {
     "data": {
      "text/plain": [
       "(2, 3, 0, 1)"
      ]
     },
     "execution_count": 19,
     "metadata": {},
     "output_type": "execute_result"
    }
   ],
   "source": [
    "tuple(torch.roll(torch.arange(A.ndim), 2).numpy())"
   ]
  },
  {
   "cell_type": "code",
   "execution_count": 111,
   "id": "516a0d7a-a6bc-40bc-a340-334893155f17",
   "metadata": {},
   "outputs": [
    {
     "data": {
      "text/plain": [
       "tensor([[-4.7684e-07, -1.9073e-06,  9.5367e-07, -7.1526e-07],\n",
       "        [ 1.0729e-06,  1.1921e-06,  1.9073e-06,  1.0729e-06],\n",
       "        [ 0.0000e+00, -4.7684e-07,  3.3379e-06,  0.0000e+00],\n",
       "        [ 1.9073e-06,  0.0000e+00, -1.9073e-06,  0.0000e+00]], device='cuda:0')"
      ]
     },
     "execution_count": 111,
     "metadata": {},
     "output_type": "execute_result"
    }
   ],
   "source": [
    "def matricize(A, ix):\n",
    "    return A.moveaxis(ix, 0).reshape([A.size()[ix], -1])\n",
    "torch.tensordot(A, B, dims=[[0,2,3], [0,2,3]]) - torch.matmul(matricize(A, 1), matricize(B, 1).T)"
   ]
  },
  {
   "cell_type": "code",
   "execution_count": 112,
   "id": "e66b3a14-f576-4f63-bb46-8aea4b94a2a5",
   "metadata": {},
   "outputs": [
    {
     "data": {
      "text/plain": [
       "tensor([[-9.5367e-07, -3.5763e-07,  9.5367e-07, -9.5367e-07,  0.0000e+00],\n",
       "        [ 1.9073e-06, -2.9802e-08, -7.1526e-07,  2.8610e-06,  0.0000e+00],\n",
       "        [-9.5367e-07,  0.0000e+00,  9.5367e-07,  9.5367e-07, -9.5367e-07],\n",
       "        [-9.5367e-07,  1.1921e-06,  1.9073e-06, -1.4305e-06,  4.7684e-07],\n",
       "        [-7.1526e-07, -9.5367e-07, -7.1526e-07,  9.5367e-07,  7.1526e-07]],\n",
       "       device='cuda:0')"
      ]
     },
     "execution_count": 112,
     "metadata": {},
     "output_type": "execute_result"
    }
   ],
   "source": [
    "torch.tensordot(A, B, dims=[[0,1,3], [0,1,3]]) - torch.matmul(matricize(A, 2), matricize(B, 2).T)"
   ]
  },
  {
   "cell_type": "code",
   "execution_count": 113,
   "id": "dc66c66b-e113-4abd-8a1b-63f045aa1553",
   "metadata": {},
   "outputs": [
    {
     "data": {
      "text/plain": [
       "tensor([[0., 0., 0., 0., 0., 0., 0.],\n",
       "        [0., 0., 0., 0., 0., 0., 0.],\n",
       "        [0., 0., 0., 0., 0., 0., 0.],\n",
       "        [0., 0., 0., 0., 0., 0., 0.],\n",
       "        [0., 0., 0., 0., 0., 0., 0.],\n",
       "        [0., 0., 0., 0., 0., 0., 0.],\n",
       "        [0., 0., 0., 0., 0., 0., 0.]], device='cuda:0')"
      ]
     },
     "execution_count": 113,
     "metadata": {},
     "output_type": "execute_result"
    }
   ],
   "source": [
    "torch.tensordot(A, B, dims=[[0,1,2], [0,1,2]]) - torch.matmul(matricize(A, 3), matricize(B, 3).T)"
   ]
  },
  {
   "cell_type": "code",
   "execution_count": 115,
   "id": "b5b6aa09-a101-44b1-86a5-1f45ab8fb4b8",
   "metadata": {},
   "outputs": [],
   "source": [
    "rank = A.ndim\n",
    "A = A.cpu()\n",
    "B = B.cpu()"
   ]
  },
  {
   "cell_type": "code",
   "execution_count": 116,
   "id": "42d27dc4-e66e-4156-a69c-6fe756729974",
   "metadata": {},
   "outputs": [
    {
     "name": "stdout",
     "output_type": "stream",
     "text": [
      "54.5 µs ± 1.17 µs per loop (mean ± std. dev. of 7 runs, 10,000 loops each)\n"
     ]
    }
   ],
   "source": [
    "%%timeit\n",
    "for i in range(rank):\n",
    "    axes = list(range(i)) + list(range(i + 1, rank))\n",
    "    torch.tensordot(A, B, dims=[axes, axes])\n",
    "\n",
    "    "
   ]
  },
  {
   "cell_type": "code",
   "execution_count": 117,
   "id": "5109be59-f883-4c29-95a9-0f369c48c676",
   "metadata": {},
   "outputs": [
    {
     "name": "stdout",
     "output_type": "stream",
     "text": [
      "61.9 µs ± 737 ns per loop (mean ± std. dev. of 7 runs, 10,000 loops each)\n"
     ]
    }
   ],
   "source": [
    "%%timeit   \n",
    "for i in range(rank):\n",
    "    torch.matmul(matricize(A, i), matricize(B, i).T)"
   ]
  },
  {
   "cell_type": "code",
   "execution_count": 118,
   "id": "adc28f2c-edb6-4bb2-82eb-54e217ace290",
   "metadata": {},
   "outputs": [],
   "source": [
    "A = A.cuda()\n",
    "B = B.cuda()\n",
    "torch.cuda.synchronize()"
   ]
  },
  {
   "cell_type": "code",
   "execution_count": 119,
   "id": "d304f320-3a72-4706-9022-cb112668ab28",
   "metadata": {},
   "outputs": [
    {
     "name": "stdout",
     "output_type": "stream",
     "text": [
      "180 µs ± 11.4 µs per loop (mean ± std. dev. of 7 runs, 1,000 loops each)\n"
     ]
    }
   ],
   "source": [
    "%%timeit\n",
    "for i in range(rank):\n",
    "    axes = list(range(i)) + list(range(i + 1, rank))\n",
    "    torch.tensordot(A, B, dims=[axes, axes])\n",
    "torch.cuda.synchronize()"
   ]
  },
  {
   "cell_type": "code",
   "execution_count": 120,
   "id": "fc07454d-4156-4fab-9e26-57a1a481ce76",
   "metadata": {},
   "outputs": [
    {
     "name": "stdout",
     "output_type": "stream",
     "text": [
      "199 µs ± 8.8 µs per loop (mean ± std. dev. of 7 runs, 10,000 loops each)\n"
     ]
    }
   ],
   "source": [
    "%%timeit   \n",
    "for i in range(rank):\n",
    "    torch.matmul(matricize(A, i), matricize(B, i).T)\n",
    "torch.cuda.synchronize()"
   ]
  },
  {
   "cell_type": "code",
   "execution_count": 46,
   "id": "e3ae9545-1cc4-48c7-8cd3-b37708c240ea",
   "metadata": {},
   "outputs": [],
   "source": [
    "C = torch.randn([4,5,8,6])\n",
    "D = torch.randn([4,5,8,6])"
   ]
  },
  {
   "cell_type": "code",
   "execution_count": 58,
   "id": "b7c721cc-6379-4938-951f-fc10b0f7a1e6",
   "metadata": {},
   "outputs": [],
   "source": [
    "max_dims = list(\n",
    "    torch.maximum(torch.Tensor(tuple(A.size())), torch.Tensor(tuple(C.size()))).int().numpy()\n",
    ")"
   ]
  },
  {
   "cell_type": "code",
   "execution_count": 70,
   "id": "7c5ec43a-8881-4838-a8f5-809c3da68f16",
   "metadata": {},
   "outputs": [
    {
     "data": {
      "text/plain": [
       "(0, 1, 2, 3)"
      ]
     },
     "execution_count": 70,
     "metadata": {},
     "output_type": "execute_result"
    }
   ],
   "source": [
    "def flatten(x):\n",
    "    return tuple(i for y in x for i in y)\n"
   ]
  },
  {
   "cell_type": "code",
   "execution_count": 121,
   "id": "c89593d0-b07d-4605-8a61-e301cfbd1a7b",
   "metadata": {},
   "outputs": [],
   "source": [
    "P = torch.zeros([2] + max_dims)\n",
    "Q = torch.zeros([2] + max_dims)\n",
    "\n",
    "pads = flatten(tuple((x-A.size()[i], 0) for i,x in enumerate(max_dims)))[::-1]\n",
    "padded = F.pad(A, pads)\n",
    "P[0] = padded\n",
    "pads = flatten(tuple((x-C.size()[i], 0) for i,x in enumerate(max_dims)))[::-1]\n",
    "padded = F.pad(C, pads)\n",
    "P[1] = padded\n",
    "\n",
    "pads = flatten(tuple((x-B.size()[i], 0) for i,x in enumerate(max_dims)))[::-1]\n",
    "padded = F.pad(B, pads)\n",
    "Q[0] = padded\n",
    "pads = flatten(tuple((x-D.size()[i], 0) for i,x in enumerate(max_dims)))[::-1]\n",
    "padded = F.pad(D, pads)\n",
    "Q[1] = padded\n"
   ]
  },
  {
   "cell_type": "code",
   "execution_count": 122,
   "id": "4edb9225-827d-4c1b-a6b6-384e42614946",
   "metadata": {},
   "outputs": [
    {
     "data": {
      "text/plain": [
       "device(type='cpu')"
      ]
     },
     "execution_count": 122,
     "metadata": {},
     "output_type": "execute_result"
    }
   ],
   "source": [
    "P.device"
   ]
  },
  {
   "cell_type": "code",
   "execution_count": 123,
   "id": "81f223b6-1b39-4b19-8900-be84f9698d15",
   "metadata": {},
   "outputs": [
    {
     "name": "stdout",
     "output_type": "stream",
     "text": [
      "136 µs ± 3.61 µs per loop (mean ± std. dev. of 7 runs, 10,000 loops each)\n"
     ]
    }
   ],
   "source": [
    "%%timeit\n",
    "for i in range(rank):\n",
    "    axes = list(range(i)) + list(range(i + 1, rank))\n",
    "    for b in range(2):        \n",
    "        torch.tensordot(P[b], Q[b], dims=[axes, axes])\n"
   ]
  },
  {
   "cell_type": "code",
   "execution_count": 124,
   "id": "22374044-4741-45f5-990a-0ca4c6e4e450",
   "metadata": {},
   "outputs": [],
   "source": [
    "def batch_matricize(A, ix):\n",
    "    return A.moveaxis(ix+1, 1).reshape([A.size()[0], A.size()[ix + 1], -1])"
   ]
  },
  {
   "cell_type": "code",
   "execution_count": 125,
   "id": "55baa4f0-bd41-47d4-bdfb-7f8e28d9c495",
   "metadata": {},
   "outputs": [
    {
     "name": "stdout",
     "output_type": "stream",
     "text": [
      "110 µs ± 4.9 µs per loop (mean ± std. dev. of 7 runs, 10,000 loops each)\n"
     ]
    }
   ],
   "source": [
    "%%timeit\n",
    "for i in range(rank):\n",
    "    torch.bmm(batch_matricize(P, i), batch_matricize(Q, i).transpose(-2,-1))"
   ]
  },
  {
   "cell_type": "code",
   "execution_count": 126,
   "id": "56f37469-7e34-499f-98de-fee7a0136a17",
   "metadata": {},
   "outputs": [],
   "source": [
    "P = P.cuda()\n",
    "Q = Q.cuda()\n",
    "torch.cuda.synchronize()"
   ]
  },
  {
   "cell_type": "code",
   "execution_count": 127,
   "id": "acf677c0-f1ef-41dc-b912-f9a500ef0920",
   "metadata": {},
   "outputs": [
    {
     "name": "stdout",
     "output_type": "stream",
     "text": [
      "337 µs ± 8.99 µs per loop (mean ± std. dev. of 7 runs, 1,000 loops each)\n"
     ]
    }
   ],
   "source": [
    "%%timeit\n",
    "for i in range(rank):\n",
    "    axes = list(range(i)) + list(range(i + 1, rank))\n",
    "    for b in range(2):        \n",
    "        torch.tensordot(P[b], Q[b], dims=[axes, axes])\n",
    "torch.cuda.synchronize()"
   ]
  },
  {
   "cell_type": "code",
   "execution_count": 128,
   "id": "8195cae1-f7f4-4e36-89e0-9199259683ca",
   "metadata": {},
   "outputs": [
    {
     "name": "stdout",
     "output_type": "stream",
     "text": [
      "216 µs ± 6 µs per loop (mean ± std. dev. of 7 runs, 1,000 loops each)\n"
     ]
    }
   ],
   "source": [
    "%%timeit\n",
    "for i in range(rank):\n",
    "    torch.bmm(batch_matricize(P, i), batch_matricize(Q, i).transpose(-2,-1))\n",
    "torch.cuda.synchronize()"
   ]
  },
  {
   "cell_type": "code",
   "execution_count": null,
   "id": "99a27f01-060e-459b-912c-a9b7ffe6554d",
   "metadata": {},
   "outputs": [],
   "source": []
  }
 ],
 "metadata": {
  "kernelspec": {
   "display_name": "Python 3 (ipykernel)",
   "language": "python",
   "name": "python3"
  },
  "language_info": {
   "codemirror_mode": {
    "name": "ipython",
    "version": 3
   },
   "file_extension": ".py",
   "mimetype": "text/x-python",
   "name": "python",
   "nbconvert_exporter": "python",
   "pygments_lexer": "ipython3",
   "version": "3.10.8"
  }
 },
 "nbformat": 4,
 "nbformat_minor": 5
}
